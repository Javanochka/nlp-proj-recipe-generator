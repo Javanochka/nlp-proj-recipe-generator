{
  "nbformat": 4,
  "nbformat_minor": 0,
  "metadata": {
    "colab": {
      "name": "recipe_generator_experiments",
      "provenance": [],
      "collapsed_sections": [],
      "toc_visible": true
    },
    "kernelspec": {
      "name": "python3",
      "display_name": "Python 3"
    },
    "accelerator": "GPU"
  },
  "cells": [
    {
      "cell_type": "markdown",
      "metadata": {
        "id": "5_T6H5ODJtNE"
      },
      "source": [
        "# Several examples of text generation on recipes\n",
        "\n",
        "## TextGenRnn library\n",
        "\n",
        "There is also a really nice tutorial using this library here: https://colab.research.google.com/drive/1mMKGnVxirJnqDViH7BDJxFqWrsXlPSoK\n",
        "\n",
        "First, I have my dataset on google cloud, so I mount it to the google colab. You don't have to do the same, especially if you try to run it locally."
      ]
    },
    {
      "cell_type": "code",
      "metadata": {
        "id": "-r-kKmlsnY9P"
      },
      "source": [
        "from google.colab import drive\n",
        "\n",
        "drive.mount('/content/drive')"
      ],
      "execution_count": null,
      "outputs": []
    },
    {
      "cell_type": "markdown",
      "metadata": {
        "id": "7TRQ4ACWJ_ie"
      },
      "source": [
        "Reading the recipes. Afterwards there are a few cells to look into the data organization and how to use it.\n"
      ]
    },
    {
      "cell_type": "code",
      "metadata": {
        "id": "XkbPrSLGKqYi"
      },
      "source": [
        "import json\n",
        "\n",
        "with open(\"/content/drive/My Drive/NLPProj/layer1.json\", 'r') as f:\n",
        "  recipes = json.load(f)"
      ],
      "execution_count": null,
      "outputs": []
    },
    {
      "cell_type": "code",
      "metadata": {
        "id": "mGHNMssSOpf2",
        "colab": {
          "base_uri": "https://localhost:8080/",
          "height": 35
        },
        "outputId": "7f947c02-9a15-4f36-d775-b8862d7f8f55"
      },
      "source": [
        "len(recipes)"
      ],
      "execution_count": null,
      "outputs": [
        {
          "output_type": "execute_result",
          "data": {
            "text/plain": [
              "1029720"
            ]
          },
          "metadata": {
            "tags": []
          },
          "execution_count": 2
        }
      ]
    },
    {
      "cell_type": "code",
      "metadata": {
        "id": "mRo6TetyO_h8",
        "colab": {
          "base_uri": "https://localhost:8080/",
          "height": 35
        },
        "outputId": "dbfd1e00-1bec-4319-8576-f60d2e3ad33a"
      },
      "source": [
        "print(recipes[0].keys())"
      ],
      "execution_count": null,
      "outputs": [
        {
          "output_type": "stream",
          "text": [
            "dict_keys(['ingredients', 'url', 'partition', 'title', 'id', 'instructions'])\n"
          ],
          "name": "stdout"
        }
      ]
    },
    {
      "cell_type": "code",
      "metadata": {
        "id": "PkYT-vcYPah8",
        "colab": {
          "base_uri": "https://localhost:8080/",
          "height": 268
        },
        "outputId": "975af06d-7116-4376-d236-6130ff42a87a"
      },
      "source": [
        "recipes[0]['ingredients']"
      ],
      "execution_count": null,
      "outputs": [
        {
          "output_type": "execute_result",
          "data": {
            "text/plain": [
              "[{'text': '6 ounces penne'},\n",
              " {'text': '2 cups Beechers Flagship Cheese Sauce (recipe follows)'},\n",
              " {'text': '1 ounce Cheddar, grated (1/4 cup)'},\n",
              " {'text': '1 ounce Gruyere cheese, grated (1/4 cup)'},\n",
              " {'text': '1/4 to 1/2 teaspoon chipotle chili powder (see Note)'},\n",
              " {'text': '1/4 cup (1/2 stick) unsalted butter'},\n",
              " {'text': '1/3 cup all-purpose flour'},\n",
              " {'text': '3 cups milk'},\n",
              " {'text': '14 ounces semihard cheese (page 23), grated (about 3 1/2 cups)'},\n",
              " {'text': '2 ounces semisoft cheese (page 23), grated (1/2 cup)'},\n",
              " {'text': '1/2 teaspoon kosher salt'},\n",
              " {'text': '1/4 to 1/2 teaspoon chipotle chili powder'},\n",
              " {'text': '1/8 teaspoon garlic powder'},\n",
              " {'text': '(makes about 4 cups)'}]"
            ]
          },
          "metadata": {
            "tags": []
          },
          "execution_count": 4
        }
      ]
    },
    {
      "cell_type": "code",
      "metadata": {
        "id": "hqgOrsw5thPz",
        "colab": {
          "base_uri": "https://localhost:8080/",
          "height": 35
        },
        "outputId": "1ada8cfd-6b9b-44c5-e30c-a0e7f424ce55"
      },
      "source": [
        "recipes[0]['url']"
      ],
      "execution_count": null,
      "outputs": [
        {
          "output_type": "execute_result",
          "data": {
            "application/vnd.google.colaboratory.intrinsic+json": {
              "type": "string"
            },
            "text/plain": [
              "'http://www.epicurious.com/recipes/food/views/-world-s-best-mac-and-cheese-387747'"
            ]
          },
          "metadata": {
            "tags": []
          },
          "execution_count": 5
        }
      ]
    },
    {
      "cell_type": "code",
      "metadata": {
        "id": "6lO2n3XUtkCe",
        "colab": {
          "base_uri": "https://localhost:8080/",
          "height": 449
        },
        "outputId": "d0098162-0593-4749-8197-227af413a6ee"
      },
      "source": [
        "recipes[0]['instructions']"
      ],
      "execution_count": null,
      "outputs": [
        {
          "output_type": "execute_result",
          "data": {
            "text/plain": [
              "[{'text': 'Preheat the oven to 350 F. Butter or oil an 8-inch baking dish.'},\n",
              " {'text': 'Cook the penne 2 minutes less than package directions.'},\n",
              " {'text': '(It will finish cooking in the oven.)'},\n",
              " {'text': 'Rinse the pasta in cold water and set aside.'},\n",
              " {'text': 'Combine the cooked pasta and the sauce in a medium bowl and mix carefully but thoroughly.'},\n",
              " {'text': 'Scrape the pasta into the prepared baking dish.'},\n",
              " {'text': 'Sprinkle the top with the cheeses and then the chili powder.'},\n",
              " {'text': 'Bake, uncovered, for 20 minutes.'},\n",
              " {'text': 'Let the mac and cheese sit for 5 minutes before serving.'},\n",
              " {'text': 'Melt the butter in a heavy-bottomed saucepan over medium heat and whisk in the flour.'},\n",
              " {'text': 'Continue whisking and cooking for 2 minutes.'},\n",
              " {'text': 'Slowly add the milk, whisking constantly.'},\n",
              " {'text': 'Cook until the sauce thickens, about 10 minutes, stirring frequently.'},\n",
              " {'text': 'Remove from the heat.'},\n",
              " {'text': 'Add the cheeses, salt, chili powder, and garlic powder.'},\n",
              " {'text': 'Stir until the cheese is melted and all ingredients are incorporated, about 3 minutes.'},\n",
              " {'text': 'Use immediately, or refrigerate for up to 3 days.'},\n",
              " {'text': 'This sauce reheats nicely on the stove in a saucepan over low heat.'},\n",
              " {'text': 'Stir frequently so the sauce doesnt scorch.'},\n",
              " {'text': 'This recipe can be assembled before baking and frozen for up to 3 monthsjust be sure to use a freezer-to-oven pan and increase the baking time to 50 minutes.'},\n",
              " {'text': 'One-half teaspoon of chipotle chili powder makes a spicy mac, so make sure your family and friends can handle it!'},\n",
              " {'text': 'The proportion of pasta to cheese sauce is crucial to the success of the dish.'},\n",
              " {'text': 'It will look like a lot of sauce for the pasta, but some of the liquid will be absorbed.'}]"
            ]
          },
          "metadata": {
            "tags": []
          },
          "execution_count": 6
        }
      ]
    },
    {
      "cell_type": "markdown",
      "metadata": {
        "id": "M6DMq2VIKL5j"
      },
      "source": [
        "Important! The next line is needed to make textgenrnn work properly. I believe by default on google colab there's a tensorflow 2, which right now not competible with textgenrnn."
      ]
    },
    {
      "cell_type": "code",
      "metadata": {
        "id": "b39FlzgbVByp",
        "colab": {
          "base_uri": "https://localhost:8080/",
          "height": 35
        },
        "outputId": "36c82d16-e787-4320-cb73-2788b7e1ddd3"
      },
      "source": [
        "%tensorflow_version 1.x"
      ],
      "execution_count": null,
      "outputs": [
        {
          "output_type": "stream",
          "text": [
            "TensorFlow 1.x selected.\n"
          ],
          "name": "stdout"
        }
      ]
    },
    {
      "cell_type": "markdown",
      "metadata": {
        "id": "_zyozLIsKde1"
      },
      "source": [
        "Install the textgenrnn. If you have already installed it, no need to run this cell.  "
      ]
    },
    {
      "cell_type": "code",
      "metadata": {
        "id": "_D4k59Kttlm8"
      },
      "source": [
        "!pip install -q textgenrnn"
      ],
      "execution_count": null,
      "outputs": []
    },
    {
      "cell_type": "code",
      "metadata": {
        "id": "UIQVrrn8R3lB",
        "colab": {
          "base_uri": "https://localhost:8080/",
          "height": 109
        },
        "outputId": "da6937d4-af21-4fe2-b3dc-4bc0f8ca7a1c"
      },
      "source": [
        "from textgenrnn import textgenrnn\n",
        "\n",
        "textgen = textgenrnn()"
      ],
      "execution_count": null,
      "outputs": [
        {
          "output_type": "stream",
          "text": [
            "Using TensorFlow backend.\n"
          ],
          "name": "stderr"
        },
        {
          "output_type": "stream",
          "text": [
            "WARNING:tensorflow:From /tensorflow-1.15.2/python3.6/tensorflow_core/python/ops/resource_variable_ops.py:1630: calling BaseResourceVariable.__init__ (from tensorflow.python.ops.resource_variable_ops) with constraint is deprecated and will be removed in a future version.\n",
            "Instructions for updating:\n",
            "If using Keras pass *_constraint arguments to layers.\n"
          ],
          "name": "stdout"
        }
      ]
    },
    {
      "cell_type": "markdown",
      "metadata": {
        "id": "Dp_8aWDSKxwI"
      },
      "source": [
        "I add special words to mark the different parts of a recipe. This way I make it easier for automatic tools to understand what's going on."
      ]
    },
    {
      "cell_type": "code",
      "metadata": {
        "id": "cAZzHs6ZTBb4"
      },
      "source": [
        "texts = []\n",
        "\n",
        "for i in range(10000): # just to test I will take 10000 first recipes. \n",
        "  text = \"ingrlst itemst \" + \\\n",
        "  \" itemfn itemst \".join([item['text'] for item in recipes[i]['ingredients']]) + \\\n",
        "  \" itemfn ingrlfn \"\n",
        "  text += \" instrst sentst \"+ \\\n",
        "  \" sentfn sentst \".join([item['text'] for item in recipes[i]['instructions']]) + \\\n",
        "  \" sentfn instrfn\"\n",
        "  texts.append(text)\n",
        "\n",
        "\n"
      ],
      "execution_count": null,
      "outputs": []
    },
    {
      "cell_type": "code",
      "metadata": {
        "id": "u67wMuJmTXD-",
        "colab": {
          "base_uri": "https://localhost:8080/",
          "height": 181
        },
        "outputId": "50a9f96a-13dc-42a7-8a2e-3d2bfc6ca467"
      },
      "source": [
        "texts[0]"
      ],
      "execution_count": null,
      "outputs": [
        {
          "output_type": "execute_result",
          "data": {
            "application/vnd.google.colaboratory.intrinsic+json": {
              "type": "string"
            },
            "text/plain": [
              "'ingrlst itemst 6 ounces penne itemfn itemst 2 cups Beechers Flagship Cheese Sauce (recipe follows) itemfn itemst 1 ounce Cheddar, grated (1/4 cup) itemfn itemst 1 ounce Gruyere cheese, grated (1/4 cup) itemfn itemst 1/4 to 1/2 teaspoon chipotle chili powder (see Note) itemfn itemst 1/4 cup (1/2 stick) unsalted butter itemfn itemst 1/3 cup all-purpose flour itemfn itemst 3 cups milk itemfn itemst 14 ounces semihard cheese (page 23), grated (about 3 1/2 cups) itemfn itemst 2 ounces semisoft cheese (page 23), grated (1/2 cup) itemfn itemst 1/2 teaspoon kosher salt itemfn itemst 1/4 to 1/2 teaspoon chipotle chili powder itemfn itemst 1/8 teaspoon garlic powder itemfn itemst (makes about 4 cups) itemfn ingrlfn  instrst sentst Preheat the oven to 350 F. Butter or oil an 8-inch baking dish. sentfn sentst Cook the penne 2 minutes less than package directions. sentfn sentst (It will finish cooking in the oven.) sentfn sentst Rinse the pasta in cold water and set aside. sentfn sentst Combine the cooked pasta and the sauce in a medium bowl and mix carefully but thoroughly. sentfn sentst Scrape the pasta into the prepared baking dish. sentfn sentst Sprinkle the top with the cheeses and then the chili powder. sentfn sentst Bake, uncovered, for 20 minutes. sentfn sentst Let the mac and cheese sit for 5 minutes before serving. sentfn sentst Melt the butter in a heavy-bottomed saucepan over medium heat and whisk in the flour. sentfn sentst Continue whisking and cooking for 2 minutes. sentfn sentst Slowly add the milk, whisking constantly. sentfn sentst Cook until the sauce thickens, about 10 minutes, stirring frequently. sentfn sentst Remove from the heat. sentfn sentst Add the cheeses, salt, chili powder, and garlic powder. sentfn sentst Stir until the cheese is melted and all ingredients are incorporated, about 3 minutes. sentfn sentst Use immediately, or refrigerate for up to 3 days. sentfn sentst This sauce reheats nicely on the stove in a saucepan over low heat. sentfn sentst Stir frequently so the sauce doesnt scorch. sentfn sentst This recipe can be assembled before baking and frozen for up to 3 monthsjust be sure to use a freezer-to-oven pan and increase the baking time to 50 minutes. sentfn sentst One-half teaspoon of chipotle chili powder makes a spicy mac, so make sure your family and friends can handle it! sentfn sentst The proportion of pasta to cheese sauce is crucial to the success of the dish. sentfn sentst It will look like a lot of sauce for the pasta, but some of the liquid will be absorbed. sentfn instrfn'"
            ]
          },
          "metadata": {
            "tags": []
          },
          "execution_count": 11
        }
      ]
    },
    {
      "cell_type": "markdown",
      "metadata": {
        "id": "oObJuAMwLO44"
      },
      "source": [
        "I train the model on word level. I believe, we have enough data to do that. However, feel free to read what are the other parametres there exist. Also, you can stop the training at any time if you feel really tired of waiting. It will have some results, may be much worse though. "
      ]
    },
    {
      "cell_type": "code",
      "metadata": {
        "id": "c_hoOb84TZwO",
        "colab": {
          "base_uri": "https://localhost:8080/",
          "height": 1000
        },
        "outputId": "8f5bd7bc-1918-456c-cf01-0194c20c6b6a"
      },
      "source": [
        "textgen.train_on_texts(texts, num_epochs=5, new_model=True, word_level=True)"
      ],
      "execution_count": null,
      "outputs": [
        {
          "output_type": "stream",
          "text": [
            "Training new model w/ 2-layer, 128-cell LSTMs\n",
            "Training on 2,386,565 word sequences.\n",
            "Epoch 1/5\n",
            "18645/18645 [==============================] - 647s 35ms/step - loss: 2.9653\n",
            "####################\n",
            "Temperature: 0.2\n",
            "####################\n",
            "ingrlst itemst 1 cup all - purpose flour itemfn itemst 1 cup sugar itemfn itemst 1 cup sugar itemfn itemst 1 cup sugar itemfn itemst 1 / 2 cup sugar itemfn itemst 1 / 2 cup sugar itemfn itemst 1 / 2 cup sugar itemfn itemst 1 / 2 cup sugar itemfn itemst 1 / 2 cup sugar itemfn itemst 1 / 2 cup sugar itemfn itemst 1 / 2 cup packed brown sugar itemfn itemst 1 / 2 cup sugar itemfn itemst 1 / 2 cup sugar itemfn itemst 1 / 2 cup all - purpose flour itemfn itemst 1 / 2 cup sugar itemfn itemst 1 / 2 cup sugar itemfn itemst 1 / 2 cup sugar itemfn itemst 1 / 2 cup sugar itemfn itemst 1 / 2 cup sugar itemfn itemst 1 / 2 cup packed brown sugar itemfn itemst 1 / 2 cup packed brown sugar itemfn itemst 1 / 2 cup sugar itemfn itemst 1 / 2 cup sugar itemfn itemst 1 / 2 cup granulated sugar itemfn itemst 1 / 2 cup sugar itemfn itemst 1 / 2 cup packed brown sugar itemfn itemst 1 / 2 cup packed brown sugar itemfn itemst 1 / 2 cup packed brown sugar itemfn itemst 1 / 2 cup packed brown sugar itemfn itemst 1 / 2 cup packed brown sugar itemfn itemst 1 / 2 cup sugar itemfn itemst 1 / 2 cup packed brown sugar itemfn itemst 1 / 2 cup packed brown sugar itemfn itemst 1 / 2 cup chopped walnuts itemfn itemst 1 / 2 cup packed brown sugar itemfn itemst 1 / 2 cup sugar itemfn itemst 1 / 2 cup sugar itemfn itemst 1 / 2 cup sugar itemfn itemst 1 / 2 cup packed brown sugar itemfn\n",
            "\n",
            "ingrlst itemst 1 cup sugar itemfn itemst 1 cup sugar itemfn itemst 1 / 2 cup packed brown sugar itemfn itemst 1 / 2 cup sugar itemfn itemst 1 / 2 cup sugar itemfn itemst 1 / 2 cup sugar itemfn itemst 1 / 2 cup sugar itemfn itemst 1 / 2 cup sugar itemfn itemst 1 / 2 cup packed brown sugar itemfn itemst 1 / 2 cup packed brown sugar itemfn itemst 1 / 2 cup packed brown sugar itemfn itemst 1 / 2 cup sugar itemfn itemst 1 / 2 cup chopped walnuts itemfn itemst 1 / 2 cup chopped walnuts itemfn itemst 1 / 2 cup powdered sugar itemfn itemst 1 / 2 cup sugar itemfn itemst 1 / 2 cup packed brown sugar itemfn itemst 1 / 2 cup packed brown sugar itemfn itemst 1 / 2 cup sugar itemfn itemst 1 / 2 cup sugar itemfn itemst 1 / 2 cup sugar itemfn itemst 1 / 2 cup sugar itemfn itemst 1 / 2 cup packed brown sugar itemfn itemst 1 / 2 cup sugar itemfn itemst 1 / 2 cup sugar itemfn itemst 1 / 2 cup packed brown sugar itemfn itemst 1 / 2 cup packed brown sugar itemfn itemst 1 / 2 cup packed brown sugar itemfn itemst 1 / 2 cup packed brown sugar itemfn itemst 1 / 2 cup packed brown sugar itemfn itemst 1 / 2 cup packed brown sugar itemfn itemst 1 / 2 cup sugar itemfn itemst 1 / 2 cup packed brown sugar itemfn itemst 1 / 2 cup packed brown sugar itemfn itemst 1 / 4 cup sugar itemfn itemst 1 / 2 cup sugar itemfn itemst 1 / 2 cup packed brown sugar itemfn itemst 1 / 2 cup sugar itemfn\n",
            "\n",
            "ingrlst itemst 1 cup sugar itemfn itemst 1 / 2 cup sugar itemfn itemst 1 / 2 cup sugar itemfn itemst 1 / 2 cup sugar itemfn itemst 1 / 2 cup packed brown sugar itemfn itemst 1 / 2 cup sugar itemfn itemst 1 / 2 cup sugar itemfn itemst 1 / 2 cup sugar itemfn itemst 1 / 2 cup sugar itemfn itemst 1 / 2 cup packed brown sugar itemfn itemst 1 / 2 cup powdered sugar itemfn itemst 1 / 2 cup sugar itemfn itemst 1 / 2 cup sugar itemfn itemst 1 / 2 cup sugar itemfn itemst 1 / 2 cup packed brown sugar itemfn itemst 1 / 2 cup sugar itemfn itemst 1 / 2 cup sugar itemfn itemst 1 / 2 cup sugar itemfn itemst 1 / 2 cup sugar itemfn itemst 1 / 2 cup packed brown sugar itemfn itemst 1 / 2 cup packed brown sugar itemfn itemst 1 / 2 cup packed brown sugar itemfn itemst 1 / 2 cup packed brown sugar itemfn itemst 1 / 2 cup sugar itemfn itemst 1 / 2 cup sugar itemfn itemst 1 / 2 cup sugar itemfn itemst 1 / 2 cup sugar itemfn itemst 1 / 2 cup packed brown sugar itemfn itemst 1 / 2 cup sugar itemfn itemst 1 / 2 cup sugar itemfn itemst 1 / 2 cup sugar itemfn itemst 1 / 2 cup sugar itemfn itemst 1 / 2 cup sugar itemfn itemst 1 / 2 cup sugar itemfn itemst 1 / 2 cup sugar itemfn itemst 1 / 2 cup packed brown sugar itemfn itemst 1 / 2 cup sugar itemfn itemst 1 / 2 cup packed brown sugar itemfn itemst 1 / 2 cup sugar itemfn itemst 1 / 2 cup\n",
            "\n",
            "####################\n",
            "Temperature: 0.5\n",
            "####################\n",
            "ingrlst itemst 2 cups all - purpose flour itemfn itemst 1 cup sugar itemfn itemst 1 cup sugar itemfn itemst 1 cup sugar itemfn itemst 1 / 2 teaspoons salt itemfn itemst 1 / 2 teaspoons salt itemfn itemst 1 / 2 cups unsalted butter , softened itemfn itemst 1 / 2 cups sugar itemfn itemst 1 / 2 teaspoons vanilla extract itemfn itemst 1 whole egg itemfn itemst 1 / 2 cups heavy cream itemfn itemst 1 / 2 teaspoons vanilla extract itemfn itemst 1 / 2 cups chocolate chips itemfn itemst 1 / 2 cups powdered sugar itemfn itemst 1 / 2 cups powdered sugar itemfn itemst 1 / 2 cups powdered sugar itemfn itemst 1 / 2 cups orange liqueur itemfn itemst 1 / 2 cups confectioners ' sugaritemfn ingrlfn instrst sentst in a large bowl , combine the butter , sugar , and salt . sentfn sentst whisk until well blended . sentfn sentst add the chocolate chips and milk and stir until well blended . sentfn sentst spread the batter into a 9 inch pie plate . sentfn sentst bake until the center is set . sentfn sentst serve with the lemon slices , or place the slices of the hot caramel sauce to serve . sentfn instrfn\n",
            "\n",
            "ingrlst itemst 1 cup all - purpose flour itemfn itemst 1 / 2 cups sugar itemfn itemst 1 / 2 teaspoons salt itemfn itemst 2 teaspoons baking powder itemfn itemst 2 teaspoons salt itemfn itemst 1 / 2 teaspoons salt itemfn itemst 1 / 2 cups sugar itemfn itemst 1 / 2 cups sugar itemfn itemst 1 / 2 teaspoons vanilla extract itemfn itemst 2 cups powdered sugar itemfn itemst 2 tablespoons lemon juice itemfn itemst 1 / 2 cups chocolate chips itemfn itemst 1 / 2 cups sugar itemfn itemst 1 / 2 teaspoons vanilla extract itemfn itemst 1 / 2 cups powdered sugar itemfn itemst 2 teaspoons vanilla extract itemfn itemst 1 / 2 cups flour itemfn itemst 1 / 2 teaspoons salt itemfn itemst 1 / 2 teaspoons salt itemfn itemst 1 / 2 teaspoons salt itemfn itemst 1 / 2 teaspoons baking powder itemfn itemst 1 / 2 teaspoons salt itemfn itemst 1 / 4 cups vegetable oil itemfn itemst 2 teaspoons sugaritemfn ingrlfn instrst sentst preheat oven to 350 degrees . sentfn sentst line a 9 inch pie plate with a wooden spoon on a rack . sentfn sentst place the chicken in the bowl and stir in the egg and the flour . sentfn sentst fold the egg into the mixture . sentfn sentst add the eggs and mix well . sentfn sentst add the flour , mix well . sentfn sentst add the flour and mix until well blended . sentfn sentst add the egg yolk and mix well . sentfn sentst fold the batter into the batter and bake for 12 minutes . sentfn sentst remove the cookies from the oven and bake for 30 minutes . sentfn sentst cool completely on the wire rack . sentfn sentst serve the\n",
            "\n",
            "ingrlst itemst 2 tablespoons olive oil itemfn itemst 2 medium onions , chopped itemfn itemst 2 garlic cloves , minced itemfn itemst 1 medium onion , chopped itemfn itemst 2 tablespoons minced garlic itemfn itemst 1 cup dried oregano itemfn itemst 1 tablespoon dried oregano itemfn itemst 12 teaspoon dried oregano itemfn itemst 1 teaspoon dried dried red itemfn itemst 12 teaspoon fresh ground pepperitemfn ingrlfn instrst sentst in a large pot , cook the minced garlic , garlic , ginger , and garlic , stirring occasionally , until the water is softened and the water has evaporated , about 2 minutes . sentfn sentst add the water and bring to a boil . sentfn sentst reduce the heat to medium , and cook until the potatoes are tender , about 1 / 2 cup . sentfn sentst add the water , water , and 1 / 2 cup water to the skillet . sentfn sentst bring to a boil . sentfn sentst cook over medium low heat for 30 minutes . sentfn sentst add the tomato and cook , stirring occasionally , until the chicken is tender , about 20 minutes . sentfn sentst transfer the shrimp to a plate and add the parsley , and cook until the sauce thickens and the liquid is absorbed and the sauce is absorbed . sentfn sentst add the tomatoes , and cook until the chicken is cooked through . sentfn sentst reduce the heat to medium and add the chopped onion and cook , stirring occasionally , until the onion is softened , about 5 minutes . sentfn sentst add the onion , garlic , ginger , and sugar . sentfn sentst cook , stirring , until the potatoes are tender , about 2 minutes . sentfn sentst stir\n",
            "\n",
            "####################\n",
            "Temperature: 1.0\n",
            "####################\n",
            "ingrlst itemst 10 crust bread cubes itemfn itemst 1 ( 13 grams ) finely vanillaitemfn ingrlfn instrst sentst heat the oil in a pan , golden brown mix cinnamon on top cook raw along . sentfn sentst and toast the the should be about 2 minutes . sentfn sentst turn in the stove and keep rounds for minute and decrease the juices to 6 to seconds coveritemfn water to take off color and seasoning . sentfn sentst now i added a great this ! sentfn instrfn\n",
            "\n",
            "ingrlst itemst 8 italian sausage mg asparagus itemfn itemst 1 mixing steaks cayenne itemfn itemst 2 tablespoons olive oil itemfn itemst 1 medium zucchini , chopped itemfn itemst 1 / 4 cup butter itemfn itemst 1 / 2 cup extra - virgin olive oil itemfn itemst 1 tablespoon cinnamon itemfn itemst 4 large eggs itemfn itemst 2 tablespoons chopped coarsely grated or green carrots itemfn itemst a tablespoon dried red ingrlfn instrst sentst preheat oven to 350 degrees f . line a 10 pie dish with the cracked rings , some toss gently . sentfn sentst cool the water to the time is just till it ' s done . sentfn sentst if they are cooked through , wrap a smaller aluminum chicken to a colander to drain . sentfn sentst them out the thin liquid from the coals to add the rest of the chicken , breadcrumbs , adobo and garlic and last , add minute . sentfn sentst put the vegetables on a plate to remove the veggies from the chicken and turn to the fat and check aside . sentfn sentst using the dough from the skin from your breast , place in the chicken cut up into a heavy chocolate - proof pot . sentfn sentst combine the mushroom and sugar in a large serving dish . sentfn sentst cook until the potatoes are lightly begins to fully cooked through . sentfn sentst add the sour cream and plain cup additional instrfn\n",
            "\n",
            "ingrlst itemst 1 medium onion , chopped itemfn itemst 2 medium tomatoes , seeded and chopped itemfn itemst 1 garlic clove , chopped to garnish itemfn itemst 6 - 6 tomatoes , cut into thin slices itemfn itemst 1 / 2 cup italian dressing itemfn itemst salt to taste itemfn itemst freshly ground black pepper itemfn itemst 2 sprigs fresh rosemary , crumbled itemfn itemst 1 garlic clove , crushed itemfn itemst 1 / 2 teaspoon fresh ground black pepperitemfn ingrlfn instrst sentst cook noodles according to package directions ( or all - ) sentfn sentst add chicken stock to full g and lower bring to medium - low heat , bring a pot of cold water . sentfn sentst if using a big stock or , lower of the time to fry put the onion , corn , and parsley into the dish . sentfn sentst add the goat cheese , then push the rest on the pasta as you like . sentfn sentst while you fill . sentfn sentst put some oil slice on the top of the grill . sentfn sentst as the edges are will the then blade , capers and 1 garlic clove , and the wrap in the liquid . sentfn sentst grill one jar of the pork , evoo filets and fry the onions dough on a griddle , 2 to 3 hours , each to fill the skillet dish . sentfn sentst bring the lamb to a plate ; then stir in the remaining oil and vegetables and mixture should it thicken . sentfn sentst cook for 2 minutes in the microwave ; let reduce for 10 to 12 hours . sentfn sentst add the pumpkin and pine nuts . sentfn sentst low or til the sauce thickens . sentfn\n",
            "\n",
            "Epoch 2/5\n",
            "18645/18645 [==============================] - 649s 35ms/step - loss: 2.6476\n",
            "####################\n",
            "Temperature: 0.2\n",
            "####################\n",
            "ingrlst itemst 1 cup all - purpose flour itemfn itemst 1 teaspoon baking soda itemfn itemst 1 teaspoon baking soda itemfn itemst 1 teaspoon baking soda itemfn itemst 1 teaspoon baking soda itemfn itemst 1 teaspoon baking soda itemfn itemst 1 teaspoon baking soda itemfn itemst 1 teaspoon vanilla itemfn itemst 1 teaspoon vanilla itemfn itemst 1 cup buttermilk itemfn itemst 1 cup buttermilk itemfn itemst 1 cup raisins itemfn itemst 1 / 4 cups butter itemfn itemst 1 / 2 cups sunflower seeds itemfn itemst 1 / 4 cups maple syrupitemfn ingrlfn instrst sentst preheat oven to 350 degrees . sentfn sentst combine all ingredients except the chocolate in a small bowl . sentfn sentst add the sugar and vanilla . sentfn sentst stir well and pour into the prepared pan . sentfn sentst bake at 350 degrees for 1 hour . sentfn sentst remove from the oven and bake for another 15 minutes . sentfn sentst remove from the oven and place on a wire rack . sentfn sentst let cool completely . sentfn sentst serve with the ice cream or the ice cream . sentfn instrfn\n",
            "\n",
            "ingrlst itemst 1 ( 15 ounce ) can pineapple chunks itemfn itemst 1 ( 15 ounce ) can pineapple chunks itemfn itemst 1 ( 14 ounce ) can pineapple chunks itemfn itemst 1 ( 15 ounce ) can pineapple chunks , drained itemfn itemst 1 ( 12 ounce ) can pineapple chunks , drained itemfn itemst 1 ( 15 ounce ) can pineapple chunks , drained itemfn itemst 1 ( 15 ounce ) can pineapple chunks , drained itemfn itemst 1 ( 14 ounce ) can pineapple chunks , drained itemfn itemst 1 ( 15 ounce ) can pineapple chunks , drained itemfn itemst 1 ( 15 ounce ) can pineapple chunks , drained itemfn itemst 1 ( 12 ounce ) can pineapple chunks , drained itemfn itemst 1 ( 15 ounce ) can pineapple chunks , drained itemfn itemst 1 ( 15 ounce ) can pineapple chunks , drained itemfn itemst 1 ( 15 ounce ) can pineapple chunks , drained itemfn itemst 1 cup whipping cream itemfn itemst 1 cup whipping cream itemfn itemst 1 ( 8 ounce ) package instant vanilla pudding mix itemfn itemst 1 ( 12 ounce ) package instant vanilla pudding mix itemfn itemst 1 ( 12 ounce ) package instant vanilla pudding mix itemfn itemst 1 ( 14 ounce ) package instant vanilla pudding mix itemfn itemst 1 ( 14 ounce ) package instant vanilla pudding mix itemfn itemst 1 ( 14 ounce ) package instant vanilla pudding mix itemfn itemst 1 ( 14 ounce ) can sweetened condensed milk itemfn itemst 1 ( 14 ounce ) package instant vanilla pudding mix itemfn itemst 1 ( 14 ounce ) can sweetened condensed milk itemfn itemst 1 cup butter itemfn itemst 1 cup whipping cream itemfn itemst 1 cup whipping cream itemfn\n",
            "\n",
            "ingrlst itemst 1 cup all - purpose flour itemfn itemst 1 teaspoon baking powder itemfn itemst 1 teaspoon baking soda itemfn itemst 1 teaspoon baking soda itemfn itemst 1 teaspoon baking soda itemfn itemst 1 teaspoon baking soda itemfn itemst 1 teaspoon baking soda itemfn itemst 1 teaspoon baking soda itemfn itemst 1 teaspoon vanilla itemfn itemst 1 cup buttermilk itemfn itemst 1 cup buttermilk itemfn itemst 1 teaspoon vanilla itemfn itemst 1 teaspoon vanilla itemfn itemst 1 teaspoon vanilla itemfn itemst 1 teaspoon baking soda itemfn itemst 1 / 2 teaspoons salt itemfn itemst 1 / 4 cups mashed bananas itemfn itemst 1 / 4 cups milk itemfn itemst 1 / 2 cups vanilla itemfn itemst 1 / 4 cups almond paste itemfn itemst 1 / 4 cups cocoa itemfn itemst 1 / 4 cups sugar itemfn itemst 1 / 4 cups cocoa itemfn itemst 1 / 4 cups milk itemfn itemst 1 / 2 cups almond paste itemfn itemst 1 / 2 cups vanilla itemfn itemst 1 / 2 cups vanilla itemfn itemst 1 / 4 cups cocoa itemfn itemst 1 / 2 cups brown sugar itemfn itemst 1 / 2 teaspoons vanilla itemfn itemst 1 / 4 cups almond paste itemfn itemst 1 / 4 cups vanilla itemfn itemst 1 / 4 cups unsweetened cocoa itemfn itemst 1 / 4 cups almond paste itemfn itemst 1 / 2 cups vanilla itemfn itemst 1 / 4 cups sugar itemfn itemst 1 / 4 cups almond paste itemfn itemst 1 / 4 cups vanilla itemfn itemst 1 / 4 cups almond paste itemfn itemst 1 / 4 cups maple syrupitemfn ingrlfn instrst sentst preheat oven to 350 degrees f . sentfn sentst butter a cookie sheet . sentfn sentst line a cookie sheet with parchment paper .\n",
            "\n",
            "####################\n",
            "Temperature: 0.5\n",
            "####################\n",
            "ingrlst itemst 1 cup all - purpose flour itemfn itemst 1 teaspoon baking soda itemfn itemst 1 teaspoon baking soda itemfn itemst 1 teaspoon baking soda itemfn itemst 1 teaspoon baking soda itemfn itemst 1 teaspoon baking soda itemfn itemst 1 teaspoon salt itemfn itemst 1 teaspoon baking soda itemfn itemst 1 teaspoon salt itemfn itemst 1 teaspoon baking soda itemfn itemst 1 teaspoon vanilla itemfn itemst 1 cup butter , softened itemfn itemst 1 cup applesauce itemfn itemst 1 teaspoon vanilla itemfn itemst 1 / 2 cups cocoa powder itemfn itemst 1 / 2 cups granulated sugar itemfn itemst 1 teaspoon vanilla itemfn itemst 1 / 4 cups almond paste itemfn itemst 1 / 4 cups walnuts , chopped itemfn itemst 1 / 4 cups all - purpose flour itemfn itemst 1 / 4 teaspoons baking soda itemfn itemst 1 / 2 teaspoons baking soda itemfn itemst 1 tablespoon baking soda itemfn itemst 1 / 4 teaspoons salt itemfn itemst 1 cup whole wheat flour itemfn itemst 1 / 2 teaspoons baking soda itemfn itemst 1 teaspoon baking soda itemfn itemst 1 teaspoon vanilla itemfn itemst 1 / 4 cups butter itemfn itemst 1 / 2 teaspoons vanilla itemfn itemst 1 teaspoon vanilla itemfn itemst 1 teaspoon vanilla itemfn itemst 1 / 2 teaspoons vanilla itemfn itemst 1 / 4 cups chopped pistachios itemfn itemst 1 whole large egg itemfn itemst 1 / 4 cups sugar itemfn itemst 1 / 2 cups vanilla itemfn itemst 1 / 4 cups whipping cream itemfn itemst 1 / 4 cups creamy peanut butter itemfn itemst 1 / 4 cups maple syrupitemfn ingrlfn instrst sentst butter a bundt pan . sentfn sentst whisk together the egg yolks and 1 / 4 cup of the vanilla extract . sentfn sentst stir in\n",
            "\n",
            "ingrlst itemst 5 ounces frozen puff pastry itemfn itemst 1 pound lean ground beef itemfn itemst 1 / 4 pound ( 2 pounds ) , sirloin or 2 pounds , salmon fillets itemfn itemst 1 pound small shrimp , peeled and cut into 1 / 2 - inch pieces itemfn itemst 1 / 2 cup chopped fresh cilantro itemfn itemst 1 / 4 cup grated parmesan cheese itemfn itemst 1 / 2 cup grated parmesan cheese itemfn itemst 2 cups shredded cheese itemfn itemst 1 / 4 cup chopped green onion itemfn itemst 1 / 2 cup chopped green itemfn itemst 1 cup chopped green olives itemfn itemst 1 / 4 cup chopped green olives itemfn itemst 1 / 2 cup grated parmesan cheese itemfn itemst 1 / 4 cup minced garlic itemfn itemst 1 / 4 cup chopped fresh parsleyitemfn ingrlfn instrst sentst preheat oven to 400 degrees f . sentfn sentst place a large roasting pan on top of each pan . sentfn sentst place the lamb in a preheated oven . sentfn sentst cook for 7 minutes . sentfn sentst serve hot and enjoy ! sentfn instrfn\n",
            "\n",
            "ingrlst itemst 1 lb elbow macaroni itemfn itemst 1 cup chicken broth itemfn itemst 1 cup chicken broth itemfn itemst 1 cup water itemfn itemst 1 ( 15 ounce ) can tomato soup itemfn itemst 1 ( 15 ounce ) can tomato sauce itemfn itemst 1 ( 15 ounce ) can black beans itemfn itemst 1 ( 8 ounce ) package ( 6 ounces ) can cream of chicken soup itemfn itemst 12 cup milk itemfn itemst 1 cup grated parmesan cheese itemfn itemst 1 ( 15 ounce ) can tomato sauce itemfn itemst 1 ( 16 ounce ) can tomato sauce ( undrained ) itemfn itemst 12 cup parmesan cheese , grated itemfn itemst 12 cup parmesan cheese , grated itemfn itemst 1 12 cups shredded cheddar cheese itemfn itemst 1 ( 12 ounce ) can rotel tomatoes , undrained itemfn itemst 1 ( 14 ounce ) can tomato sauce itemfn itemst 1 ( 15 ounce ) can diced tomatoes itemfn itemst 1 ( 12 ounce ) can tomato sauce itemfn itemst 1 ( 15 ounce ) can tomato sauce itemfn itemst 1 ( 14 ounce ) can tomato sauce itemfn itemst 1 ( 15 ounce ) can diced tomatoes itemfn itemst 1 ( 15 ounce ) can tomato sauce itemfn itemst 1 ( 14 ounce ) can tomato sauce itemfn itemst 1 ( 14 ounce ) can tomato sauce itemfn itemst 12 cup grated parmesan cheese itemfn itemst 1 ( 15 ounce ) can tomato sauce itemfn itemst 1 ( 15 ounce ) can corn itemfn itemst 1 ( 15 ounce ) can tomato sauce itemfn itemst 1 ( 15 ounce ) can tomato sauce ( i used ) itemfn itemst 1 ( 15 ounce ) can diced tomatoes itemfn itemst 1 ( 15 ounce )\n",
            "\n",
            "####################\n",
            "Temperature: 1.0\n",
            "####################\n",
            "ingrlst itemst 6 lbs pasta or 2 ( 14 . ) itemfn itemst 2 tablespoons olive oil itemfn itemst 3 tablespoons parmesan cheese , grated itemfn itemst 12 cup ricotta cheese itemfn itemst 3 tablespoons prosciutto itemfn itemst 3 tablespoons green - onion seeds itemfn itemst 4 13 cups plain yogurt itemfn itemst 12 teaspoon dried oregano itemfn itemst 12 teaspoon pepperitemfn ingrlfn instrst sentst combine the vegetables and lemon juice and mix thoroughly . sentfn sentst add mayonnaise to your desired consistency . sentfn sentst form a well - uniform . sentfn sentst coat the chicken breasts with a dry mustard , if desired . sentfn sentst cover eggs and place 1 / 2 inch apart on both sides , in a loaf pan . sentfn sentst melt butter chips . sentfn sentst add another tomato sauce and mix thoroughly . sentfn sentst toss meal with the dressing and 1 / 4 of the kidney chocolate in the casserole , leaving the egg mixture on the top . sentfn sentst toast through for 5 minutes , flip them under the halfway up the loaf . sentfn sentst bake for 15 minutes . sentfn sentst making the while serving hours , it should end up should , turns 16 . sentfn sentst when good 1 hour . sentfn instrfn\n",
            "\n",
            "ingrlst itemst 4 cups toppings prepared barbecue sauce ( i used black ingredients ) itemfn itemst 12 cup prosciutto ( even ) 12 slices itemfn itemst 1 12 teaspoons salt itemfn itemst 1 ( 15 1 / 2 ounce ) the lobster , halved itemfn itemst 2 cups fresh mozzarella cheese , thinly sliced itemfn itemst 6 celery ribs , cut into 8 pieces itemfn itemst 1 medium red pepper , cut into 1 / 2 - inch dice itemfn itemst extra - virgin olive oil , divided itemfn itemst 4 ounces buns , extra - warm itemfn itemst 4 boneless skinless chicken breast halves itemfn itemst 8 ounces hot aged deli - style meat , thawed itemfn itemst hot ground cooked beef , ground to taste itemfn itemst 1 ( 8 ounce ) can cherry tomatoes , diced small itemfn itemst 2 cups chopped fresh ginger itemfn itemst 1 ( 1 ounce ) package raspberry as package , prepared roasted basmati rice itemfn itemst 1 14 cups chunky vegetables ( or use to regular size ) itemfn itemst 12 cup sea salt itemfn itemst 1 ( 15 1 / 2 ounce ) 1 can beef broth itemfn itemst 1 12 teaspoons salt itemfn itemst 1 12 teaspoons ground red pepper flakes itemfn itemst 12 teaspoon dried oregano itemfn itemst 12 teaspoon salt itemfn itemst 4 34 teaspoons boneless bag chicken breast itemfn itemst 1 / 2 pint reduced - orange juiceitemfn ingrlfn instrst sentst place chicken breasts in a same pan . sentfn sentst drain in cheesecloth and shredded and boil . sentfn sentst roast chicken for 5 minutes . sentfn sentst then toss with stock , tomato paste and celery - nut . sentfn sentst bring and chicken broth to boil . sentfn sentst turn off\n",
            "\n",
            "ingrlst itemst 1 pound green and diced beef itemfn itemst 1 / 4 or 1 / 2 cup creamy peanut butter itemfn itemst 1 cup chopped onion itemfn itemst 1 cup chicken broth itemfn itemst 1 / 2 cup basil , rinsed itemfn itemst 2 / 3 cup tomato sauce itemfn itemst 2 tablespoons breadcrumbs itemfn itemst 1 quart hot water itemfn itemst 1 1 / 2 pounds salmon fillet itemfn itemst 3 cloves garlic ( finely diced ) itemfn itemst lettuce itemfn itemst 2 ounces salmon , scrubbed , 1 / 2 cup itemfn itemst 1 head lettuce itemfn itemst 1 / 4 pound snow peas , cleaned , lengthwise itemfn itemst 1 pound feta or fresh bay leaves itemfn itemst 1 / 2 teaspoon freshly ground - ground black pepper itemfn itemst 3 quarts more reduced - fat mozzarella , pitted , if you like drained itemfn itemst one pound , for the chicken itemfn itemst 2 medium carrots , peeled and cubed itemfn itemst 1 / 4 cup whole foods 1 / 2 or 1 / 2 teaspoon vanilla ( cooking itemfn itemst 1 cup grated fresh lime peel itemfn itemst 1 tsp . ( 1 - 1 . pkg . ) jell - o itemfn itemst 4 oz score top itemfn itemst 3 cups into small size mixitemfn ingrlfn instrst sentst preheat oven to 325f . sentfn sentst mix zucchini , zucchini , gingerroot , green peas , and sunflower seeds in small bowl . sentfn sentst scatter chicken meatballs . sentfn sentst pour soy sauce over roast . sentfn sentst cover and bake 10 - 15 minutes . sentfn sentst serve with chicken rice , or serving chicken breast or sour cream . sentfn instrfn\n",
            "\n",
            "Epoch 3/5\n",
            "18645/18645 [==============================] - 659s 35ms/step - loss: 2.5538\n",
            "####################\n",
            "Temperature: 0.2\n",
            "####################\n",
            "ingrlst itemst 1 cup chicken broth itemfn itemst 1 cup chicken broth itemfn itemst 1 tablespoon soy sauce itemfn itemst 1 tablespoon soy sauce itemfn itemst 1 tablespoon soy sauce itemfn itemst 1 tablespoon soy sauce itemfn itemst 1 tablespoon soy sauce itemfn itemst 1 tablespoon soy sauce itemfn itemst 1 tablespoon soy sauce itemfn itemst 1 tablespoon soy sauce itemfn itemst 1 tablespoon soy sauce itemfn itemst 1 tablespoon soy sauce itemfn itemst 1 tablespoon soy sauce itemfn itemst 1 tablespoon soy sauce itemfn itemst 1 tablespoon soy sauce itemfn itemst 1 tablespoon soy sauce itemfn itemst 1 tablespoon soy sauce itemfn itemst 1 tablespoon soy sauce itemfn itemst 1 tablespoon soy sauce itemfn itemst 1 tablespoon soy sauce itemfn itemst 1 tablespoon soy sauce itemfn itemst 1 tablespoon soy sauce itemfn itemst 1 tablespoon worcestershire sauce itemfn itemst 1 tablespoon soy sauce itemfn itemst 1 tablespoon soy sauce itemfn itemst 1 tablespoon soy sauce itemfn itemst 1 tablespoon soy sauce itemfn itemst 1 tablespoon soy sauce itemfn itemst 1 tablespoon soy sauce itemfn itemst 1 tablespoon soy sauce itemfn itemst 1 tablespoon soy sauce itemfn itemst 1 tablespoon soy sauce itemfn itemst 1 tablespoon soy sauce itemfn itemst 1 tablespoon soy sauce itemfn itemst 1 tablespoon soy sauce itemfn itemst 1 tablespoon soy sauce itemfn itemst 1 tablespoon soy sauce itemfn itemst 1 tablespoon soy sauce itemfn itemst 1 tablespoon soy sauce itemfn itemst 1 tablespoon soy sauce itemfn itemst 1 tablespoon soy sauce itemfn itemst 1 tablespoon soy sauce itemfn itemst 1 tablespoon soy sauce itemfn itemst 1 tablespoon soy sauce itemfn itemst 1 tablespoon soy sauce itemfn itemst 1 tablespoon soy sauce itemfn itemst 1 tablespoon worcestershire sauce itemfn itemst 1 tablespoon soy sauce itemfn itemst 1 tablespoon soy sauce itemfn itemst 1 tablespoon\n",
            "\n",
            "ingrlst itemst 1 cup sugar itemfn itemst 1 cup sugar itemfn itemst 1 cup sugar itemfn itemst 1 cup sugar itemfn itemst 1 teaspoon vanilla extract itemfn itemst 1 teaspoon vanilla extractitemfn ingrlfn instrst sentst combine all ingredients together in a large bowl . sentfn sentst pour over the fruit and nuts . sentfn sentst bake for 20 to 25 minutes or until a toothpick inserted in the center comes out clean . sentfn sentst cool in pans for 10 minutes . sentfn sentst remove from pan and cool completely . sentfn sentst remove from pan and cool completely . sentfn sentst remove from pan and cool completely . sentfn sentst remove from pan and cool completely . sentfn sentst remove from pan and set aside . sentfn sentst in a large bowl , combine all ingredients , except the chocolate and vanilla . sentfn sentst beat until smooth . sentfn sentst pour into a 9x13 - inch baking dish . sentfn sentst bake for 18 to 18 minutes , until the cake is golden . sentfn sentst remove from the oven and cool on a wire rack . sentfn sentst remove the pan from the oven and let cool on a wire rack . sentfn sentst remove the cake from the pan and cool completely on a wire rack . sentfn sentst remove the cake from the pan and cool completely on the wire rack . sentfn sentst remove the cookies from the pan and cool completely on a wire rack . sentfn sentst for the frosting : sentfn sentst in a large bowl , beat the cream and sugar together until light and fluffy . sentfn sentst add the vanilla extract and beat until smooth . sentfn sentst add the vanilla extract and mix until well\n",
            "\n",
            "ingrlst itemst 1 / 4 cup sugar itemfn itemst 1 / 4 cup sugar itemfn itemst 1 / 2 cup sugar itemfn itemst 1 / 4 cup sugar itemfn itemst 1 / 4 cup sugar itemfn itemst 1 / 4 cup sugar itemfn itemst 1 / 2 cup sugar itemfn itemst 1 / 4 cup sugar itemfn itemst 1 / 4 cup sugar itemfn itemst 1 / 4 cup sugar itemfn itemst 1 / 4 cup sugar itemfn itemst 1 / 4 cup sugar itemfn itemst 1 / 4 cup sugar itemfn itemst 1 / 4 teaspoon salt itemfn itemst 1 / 4 teaspoon nutmeg itemfn itemst 1 / 4 teaspoon salt itemfn itemst 1 / 4 teaspoon ground nutmeg itemfn itemst 1 / 4 teaspoon ground nutmeg itemfn itemst 1 / 4 teaspoon salt itemfn itemst 1 / 4 teaspoon freshly ground black pepper itemfn itemst 1 / 4 cup finely chopped fresh parsleyitemfn ingrlfn instrst sentst preheat the oven to 400 degrees f . sentfn sentst place the chicken in a large bowl , and place in the refrigerator for 1 hour . sentfn sentst in a large bowl , combine the first six ingredients , and pour over the chicken and the chicken breasts . sentfn sentst cover the tightly and refrigerate for at least one hour . sentfn sentst preheat the oven to 400 . sentfn sentst place the chicken in a large bowl , and place in the refrigerator for 1 hour . sentfn sentst place the chicken in a large bowl , and place in the refrigerator for 1 hour . sentfn sentst heat the oil in a large skillet over medium heat . sentfn sentst add the onion and garlic and cook for another 1 minute . sentfn sentst add the\n",
            "\n",
            "####################\n",
            "Temperature: 0.5\n",
            "####################\n",
            "ingrlst itemst 1 cup sugar itemfn itemst 1 large egg itemfn itemst 1 tablespoon lemon juice itemfn itemst 1 tablespoon honey itemfn itemst 1 teaspoon granulated sugar itemfn itemst 1 teaspoon cinnamon itemfn itemst 1 1 / 2 cups all - purpose flour itemfn itemst 1 / 2 teaspoon salt itemfn itemst 1 / 4 teaspoon nutmeg itemfn itemst 1 / 4 teaspoon cinnamon itemfn itemst 1 / 2 teaspoon ground cinnamon itemfn itemst 1 / 4 teaspoon ground nutmeg itemfn itemst 1 / 4 teaspoon ground cinnamon itemfn itemst 1 / 4 teaspoon ground nutmeg itemfn itemst 1 / 4 teaspoon ground nutmeg itemfn itemst 1 / 4 teaspoon ground nutmeg itemfn itemst 1 / 2 teaspoon ground cinnamon itemfn itemst 1 / 4 teaspoon ground nutmeg itemfn itemst 1 / 2 teaspoon nutmeg itemfn itemst 1 / 4 teaspoon cinnamon itemfn itemst 1 / 4 teaspoon salt itemfn itemst 1 1 / 2 cups cold milk ( optional ) itemfn itemst 1 / 4 cup flaked coconut ( optional ) itemfn itemst 1 / 4 cup sugar itemfn itemst 1 / 4 cup finely chopped fresh parsleyitemfn ingrlfn instrst sentst preheat oven to 350 degrees . sentfn sentst in a large bowl , combine all ingredients except the shortening . sentfn sentst add the dry ingredients and mix well . sentfn sentst pour the batter into a 9x13 inch baking pan . sentfn sentst bake in a preheated 350 oven for about 20 minutes . sentfn sentst remove the pan from the oven and let cool on a wire rack to cool . sentfn sentst cut into bars . sentfn sentst serve with ice cream and a of hot . sentfn instrfn\n",
            "\n",
            "ingrlst itemst 1 1 / 2 pounds boneless chicken breasts , cut into 1 - inch pieces itemfn itemst 1 / 4 cup chopped onion itemfn itemst 1 / 2 cup brown sugar itemfn itemst 1 / 4 cup chopped onion itemfn itemst 1 teaspoon kosher salt itemfn itemst 1 / 4 teaspoon freshly ground black pepper itemfn itemst 1 / 4 teaspoon freshly ground black pepper itemfn itemst 1 / 4 teaspoon kosher salt itemfn itemst 1 / 2 teaspoon freshly ground black pepper itemfn itemst 1 / 2 cup finely chopped fresh parsleyitemfn ingrlfn instrst sentst in a large skillet , heat the olive oil until it begins to brown . sentfn sentst add the garlic and cook , stirring frequently , until the onion is soft and softened , about 5 minutes . sentfn sentst add the wine and cook for another 10 minutes , until the chicken is reduced to 1 / 4 cup . sentfn sentst add the wine and cook until the vegetables are tender and lightly browned . sentfn sentst add the wine , the stock , and the vinegar . sentfn sentst bring to a boil , then reduce heat and simmer for one minute , stirring constantly until the sauce thickens . sentfn sentst stir in the chicken stock and cover the pot with the stock and let simmer for another 10 minutes . sentfn sentst add the chicken broth , and cook for another 10 minutes or until the shrimp is just cooked through . sentfn sentst remove the chicken from the skillet and transfer to a large bowl . sentfn sentst add the wine and stir to combine . sentfn sentst pour the sauce over the chicken and serve . sentfn instrfn\n",
            "\n",
            "ingrlst itemst 1 - 1 / 2 cup sugar itemfn itemst 1 - 1 / 2 cup sugar itemfn itemst 1 / 4 teaspoons salt itemfn itemst 1 / 4 teaspoons cinnamon itemfn itemst 1 / 4 teaspoons nutmeg itemfn itemst 1 / 4 teaspoons nutmeg itemfn itemst 1 / 4 cups all - purpose flour itemfn itemst 1 / 2 teaspoons baking powder itemfn itemst 1 / 4 teaspoons salt itemfn itemst 1 / 2 teaspoons cinnamon itemfn itemst 1 / 2 teaspoons baking powder itemfn itemst 1 - 1 / 2 teaspoon vanilla extractitemfn ingrlfn instrst sentst preheat oven to 350 degrees . sentfn sentst in a large bowl , combine the sugar , cinnamon , nutmeg , cloves , allspice , and nutmeg . sentfn sentst add the dry ingredients and mix until well blended . sentfn sentst add the remaining ingredients into the wet ingredients . sentfn sentst mix until well combined . sentfn sentst divide the dough into 4 portions and roll up into balls . sentfn sentst divide the dough into 4 balls and place in the center of the dough . sentfn sentst roll out the dough and fold in the dough . sentfn sentst roll out the dough out onto a lightly floured surface . sentfn sentst roll out the dough out and roll out . sentfn sentst cut the dough into 1 - inch balls . sentfn sentst place the dough on a lightly floured surface . sentfn sentst roll out dough on a lightly floured surface . sentfn sentst roll out the dough and a 1 / 2 - inch thick . sentfn sentst place the dough on a floured surface and roll out . sentfn sentst roll out the pizza dough and place it on a lightly\n",
            "\n",
            "####################\n",
            "Temperature: 1.0\n",
            "####################\n",
            "ingrlst itemst 18 teaspoon store powder itemfn itemst ice , for servingitemfn ingrlfn instrst sentst put the yogurt , roasted corn syrup and all ingredients in the bowl and the small other ingredients to the seeds and serve evenly . sentfn sentst over you the sugar , use a spoon . sentfn sentst simply add icing sugar and cinnamon to the topping . sentfn sentst refrigerate until slightly firm , completely chilled before prosecco ( to serve ) . sentfn sentst place one by per sheet of cooled block onto a floured surface . sentfn sentst refrigerate for up to 1 quart coffee in . sentfn sentst for sugar small dip fitted with a walnut or fingers a very slice of the dough way through a fine - mesh kitchen towel . sentfn sentst transfer a a rack to top of the surface and then side up across the end of the f lightly . sentfn sentst mushrooms will roll up are ready to use when the mixture evenly begins , leave to allow brussels to the crockpot for 15 - 18 minutes . sentfn sentst you can also add shredded toppings all . sentfn sentst * them s a 1 / to teaspoon once the batter back is toasted together . sentfn sentst you can use the custard away from making vegetable , you don ' without it ' ve a achieve skillet . sentfn sentst don ' t be careful not to immediately evaporate before any . sentfn sentst this is done and boil the liquid in thicken , overnight and the heat cool . sentfn sentst dishes again or possibly you like . sentfn sentst this is you take a any little layer of you may use it to give it off the good ,\n",
            "\n",
            "ingrlst itemst 1 bag heavy cream itemfn itemst 1 ( 12 ounce ) jar lettuce concentrate , thawed , well drained and chopped itemfn itemst 1 small onion or 14 cup honey itemfn itemst 3 tablespoons brown sugar itemfn itemst 14 teaspoon cayenne pepper itemfn itemst 12 teaspoon freshly ground pepper , tied itemfn itemst 14 cup cold breadcrumbs itemfn itemst 3 tablespoons reduced - fat cream cheeseitemfn ingrlfn instrst sentst melt the butter in a large skillet or saute pan or pan . sentfn sentst add the butter and brown lightly . sentfn sentst once the liquid is thick enough to smooth ball of beaters , allow them to cook in them for 2 minutes . sentfn sentst it like your is sticking to the large flavor the tomato will be well done it all . sentfn sentst if you ' re re - go it about 4 cup . sentfn sentst you can ' it to the go all way , use a 3 baking sheet . sentfn sentst you may have this it over the tops getting the there of the they attached there is done if are still hard along with the sized scoop and has all with the softened salad . sentfn sentst i don ' t flatten it the out of stand as you can there ' s much or way buy in this or dishes . sentfn sentst . sentfn sentst bottle next , stir for 15 - 20 minutes before or pieces you them will use . sentfn instrfn\n",
            "\n",
            "ingrlst itemst 4 pieces ( cake ) or 3 cups apples ( cubed ) itemfn itemst graham cracker crumbs ( kool - - whip - your preference ) itemfn itemst 1 12 cups skim milk , to taste ( optional ) itemfn itemst 1 - 2 teaspoons hot wateritemfn ingrlfn instrst sentst begins to smoke wedges . sentfn sentst remove turkey from lamb and sprinkle with the garlic . sentfn sentst season meat with salt and pepper . sentfn sentst stir in 2 cups stock , herbs , spices , red pepper flakes , and nuts to combine . sentfn sentst parsley . sentfn sentst keep strips and chicken often . sentfn sentst whisk until slightly mixed with lamb or vegetable broth . sentfn sentst transfer blend , stir in cream cheese and chill until thicken . sentfn sentst ladle soup mixture into bowls . sentfn sentst serves 16 . sentfn sentst for / deep - fry - itemst wide with some peas are used as tortilla is them . sentfn sentst serve hot . sentfn instrfn\n",
            "\n",
            "Epoch 4/5\n",
            "18645/18645 [==============================] - 668s 36ms/step - loss: 2.4874\n",
            "####################\n",
            "Temperature: 0.2\n",
            "####################\n",
            "ingrlst itemst 1 lb lean ground beef itemfn itemst 1 lb ground beef itemfn itemst 1 ( 8 ounce ) package frozen chopped spinach , thawed itemfn itemst 1 cup shredded cheddar cheese itemfn itemst 1 cup shredded cheddar cheese itemfn itemst 1 cup shredded mozzarella cheese itemfn itemst 1 cup shredded mozzarella cheese itemfn itemst 1 cup shredded mozzarella cheese itemfn itemst 1 cup shredded mozzarella cheese itemfn itemst 1 cup shredded mozzarella cheese itemfn itemst 1 cup shredded mozzarella cheese itemfn itemst 1 cup shredded mozzarella cheese itemfn itemst 1 cup shredded mozzarella cheese itemfn itemst 1 cup shredded mozzarella cheese itemfn itemst 1 cup shredded mozzarella cheese itemfn itemst 1 cup shredded mozzarella cheese itemfn itemst 1 cup shredded mozzarella cheese itemfn itemst 1 cup shredded mozzarella cheese itemfn itemst 1 cup shredded mozzarella cheese itemfn itemst 1 cup shredded mozzarella cheese itemfn itemst 1 cup shredded monterey jack cheeseitemfn ingrlfn instrst sentst preheat oven to 350 degrees f . sentfn sentst in a large bowl , whisk together the eggs , milk , and salt . sentfn sentst add the eggs , egg , and salt and mix well . sentfn sentst add the egg white mixture , mixing well . sentfn sentst add the flour mixture to the egg mixture and mix well . sentfn sentst add the flour mixture to the flour mixture and mix well . sentfn sentst add the flour mixture and mix well . sentfn sentst add the flour and mix well . sentfn sentst knead the dough for 10 min . sentfn sentst remove from the refrigerator and chill for 30 to 45 min . sentfn sentst makes about 1 c . . sentfn sentst when ready to use the dough , cut in half and half .\n",
            "\n",
            "ingrlst itemst 1 cup sugar itemfn itemst 1 cup sugar itemfn itemst 1 cup sugar itemfn itemst 1 cup brown sugar itemfn itemst 1 cup brown sugar itemfn itemst 1 teaspoon vanilla itemfn itemst 1 teaspoon vanilla itemfn itemst 1 teaspoon vanilla itemfn itemst 1 teaspoon vanilla itemfn itemst 1 teaspoon vanilla itemfn itemst 1 teaspoon vanilla itemfn itemst 1 teaspoon vanilla itemfn itemst 1 teaspoon vanilla itemfn itemst 1 teaspoon vanilla itemfn itemst 1 teaspoon vanilla itemfn itemst 1 teaspoon vanilla itemfn itemst 1 teaspoon vanilla itemfn itemst 1 teaspoon vanilla itemfn itemst 1 teaspoon vanilla itemfn itemst 1 teaspoon vanilla itemfn itemst 1 teaspoon vanilla itemfn itemst 1 teaspoon vanilla itemfn itemst 1 teaspoon cinnamon itemfn itemst 1 teaspoon baking soda itemfn itemst 1 teaspoon vanilla itemfn itemst 1 teaspoon vanilla itemfn itemst 1 teaspoon vanilla itemfn itemst 1 teaspoon vanilla itemfn itemst 1 teaspoon vanilla itemfn itemst 1 teaspoon vanilla itemfn itemst 1 teaspoon vanilla itemfn itemst 1 teaspoon vanilla itemfn itemst 1 teaspoon ground nutmeg itemfn itemst 1 teaspoon ground nutmeg itemfn itemst 1 teaspoon ground cinnamon itemfn itemst 1 teaspoon ground nutmeg itemfn itemst 1 teaspoon ground nutmeg itemfn itemst 1 teaspoon ground nutmeg itemfn itemst 1 teaspoon ground nutmeg itemfn itemst 1 teaspoon ground nutmeg itemfn itemst 1 teaspoon ground cinnamon itemfn itemst 1 teaspoon ground nutmeg itemfn itemst 1 teaspoon ground nutmeg itemfn itemst 1 teaspoon ground cinnamon itemfn itemst 1 teaspoon ground nutmeg itemfn itemst 1 teaspoon ground nutmeg itemfn itemst 1 teaspoon ground cinnamon itemfn itemst 1 teaspoon ground cinnamon itemfn itemst 1 teaspoon ground nutmeg itemfn itemst 1 teaspoon ground nutmeg itemfn itemst 1 teaspoon ground nutmeg itemfn itemst 1 teaspoon ground cinnamon itemfn itemst 1 teaspoon ground nutmeg itemfn itemst 1 teaspoon ground nutmeg itemfn itemst 1\n",
            "\n",
            "ingrlst itemst 1 cup butter itemfn itemst 1 cup sugar itemfn itemst 1 cup brown sugar itemfn itemst 1 teaspoon vanilla itemfn itemst 1 teaspoon vanilla itemfn itemst 1 teaspoon vanilla itemfn itemst 1 teaspoon vanilla itemfn itemst 1 teaspoon vanilla itemfn itemst 1 teaspoon vanilla itemfn itemst 1 teaspoon vanilla itemfn itemst 1 teaspoon vanilla itemfn itemst 1 teaspoon vanilla itemfn itemst 1 teaspoon ground cinnamon itemfn itemst 1 teaspoon ground nutmeg itemfn itemst 1 teaspoon ground nutmeg itemfn itemst 1 teaspoon ground cinnamon itemfn itemst 1 teaspoon ground nutmeg itemfn itemst 1 teaspoon ground nutmeg itemfn itemst 1 teaspoon ground nutmeg itemfn itemst 1 teaspoon ground nutmeg itemfn itemst 1 teaspoon ground nutmeg itemfn itemst 1 teaspoon ground nutmeg itemfn itemst 1 teaspoon ground nutmeg itemfn itemst 1 teaspoon ground nutmeg itemfn itemst 1 teaspoon ground nutmeg itemfn itemst 1 teaspoon ground nutmeg itemfn itemst 1 teaspoon ground nutmeg itemfn itemst 1 teaspoon ground nutmeg itemfn itemst 1 teaspoon ground nutmeg itemfn itemst 1 teaspoon ground nutmeg itemfn itemst 1 teaspoon ground nutmeg itemfn itemst 1 teaspoon ground nutmeg itemfn itemst 1 teaspoon ground nutmeg itemfn itemst 1 teaspoon ground nutmeg itemfn itemst 1 teaspoon ground nutmeg itemfn itemst 1 teaspoon ground nutmeg itemfn itemst 1 teaspoon ground nutmeg itemfn itemst 1 teaspoon ground nutmeg itemfn itemst 1 teaspoon ground nutmeg itemfn itemst 1 teaspoon ground nutmeg itemfn itemst 1 teaspoon ground nutmeg itemfn itemst 1 teaspoon ground nutmeg itemfn itemst 1 teaspoon ground nutmeg itemfn itemst 1 teaspoon ground nutmeg itemfn itemst 1 teaspoon ground nutmeg itemfn itemst 1 teaspoon ground nutmeg itemfn itemst 1 teaspoon ground nutmeg itemfn itemst 1 teaspoon ground nutmeg itemfn itemst 1 teaspoon ground nutmeg itemfn itemst 1 teaspoon ground nutmeg itemfn itemst 1 teaspoon ground nutmeg itemfn itemst 1\n",
            "\n",
            "####################\n",
            "Temperature: 0.5\n",
            "####################\n",
            "ingrlst itemst 1 lb lean ground beef itemfn itemst 1 tablespoon onion powder itemfn itemst 1 tablespoon onion powder itemfn itemst 1 teaspoon garlic powder itemfn itemst 12 teaspoon salt itemfn itemst 14 teaspoon pepper itemfn itemst 1 teaspoon lemon juice itemfn itemst 1 teaspoon paprika itemfn itemst 1 teaspoon garlic powder itemfn itemst 12 teaspoon salt itemfn itemst 34 teaspoon garlic powder itemfn itemst 12 teaspoon garlic powder itemfn itemst 12 teaspoon garlic powder itemfn itemst pepper itemfn itemst sesame oilitemfn ingrlfn instrst sentst cut the chicken into bite size pieces . sentfn sentst cut the turkey breasts into strips . sentfn sentst place in a large pot of water , cover with the lid and cook for 3 minutes . sentfn sentst add the onion , green pepper , and garlic and saute for 1 minute . sentfn sentst add the tomatoes and cook for another minute . sentfn sentst add the chicken and broth and bring to a boil . sentfn sentst add the rice and stir until the rice is tender but still firm to the bite - size . sentfn sentst add the rice , rice , and water to the pan . sentfn sentst cover with a lid and let simmer , covered , until the potatoes are tender , about 30 minutes . sentfn sentst remove the meat from the oven and set aside . sentfn sentst in a large bowl , combine the remaining ingredients and stir well . sentfn sentst cover and refrigerate for 30 minutes . sentfn sentst in a large bowl , whisk together the eggs , molasses , sugar , and salt . sentfn sentst add the egg and continue to beat until the mixture becomes smooth , about 5 minutes . sentfn sentst stir in\n",
            "\n",
            "ingrlst itemst 2 tablespoons olive oil itemfn itemst 2 tablespoons butter itemfn itemst 1 tablespoon onion , minced itemfn itemst 1 tablespoon minced garlic itemfn itemst 1 tablespoon minced fresh ginger itemfn itemst 1 tablespoon minced garlic itemfn itemst 1 tablespoon fresh thyme leaves itemfn itemst 1 tablespoon dried oregano itemfn itemst 1 tablespoon olive oil itemfn itemst 1 tablespoon olive oil itemfn itemst 1 tablespoon mayonnaise itemfn itemst 1 tablespoon fresh lemon juice itemfn itemst 1 tablespoon butteritemfn ingrlfn instrst sentst in a food processor , pulse all ingredients together until smooth . sentfn sentst pour into a large bowl and cover . sentfn sentst refrigerate overnight . sentfn sentst meanwhile , to make the sauce , mix together the mayonnaise , mustard , and 1 teaspoon salt . sentfn sentst in a large bowl , whisk together the eggs , milk , egg , and salt until blended . sentfn sentst add the ricotta cheese and parsley ; toss to coat . sentfn sentst toss the pasta with the remaining cheese and the parmesan cheese mixture . sentfn sentst fold in the cheese mixture and bake at 350 degrees f for 1 hour . sentfn sentst serve with a dollop of sour cream or desired . sentfn instrfn\n",
            "\n",
            "ingrlst itemst 1 / 2 cup plus 1 / 4 cup plus 1 / 4 cup sugar itemfn itemst 1 / 4 cup plus 1 tablespoon plus 2 teaspoons pure vanilla extract itemfn itemst 1 / 4 teaspoon salt itemfn itemst 1 / 4 teaspoon freshly ground nutmeg itemfn itemst 1 / 4 teaspoon ground nutmeg itemfn itemst 1 / 2 teaspoon ground cloves itemfn itemst 1 / 4 teaspoon ground nutmeg itemfn itemst 1 teaspoon ground nutmeg itemfn itemst 1 / 4 teaspoon ground cloves itemfn itemst 1 1 / 2 teaspoons ground cinnamon itemfn itemst 1 1 / 2 teaspoons ground cinnamon itemfn itemst 1 / 4 teaspoon ground nutmeg itemfn itemst 1 / 4 teaspoon salt itemfn itemst 1 / 4 cup all - purpose flour itemfn itemst 1 1 / 2 cups all - purpose flour itemfn itemst 3 / 4 cup plus 1 / 2 teaspoon salt itemfn itemst 1 / 4 teaspoon freshly ground nutmeg itemfn itemst 1 / 4 teaspoon salt itemfn itemst 1 / 3 cup all - purpose flour itemfn itemst 1 / 4 cup all - purpose flour itemfn itemst 1 / 4 teaspoon salt itemfn itemst 1 / 2 teaspoon ground cinnamon itemfn itemst 1 / 4 teaspoon salt itemfn itemst 1 / 4 cup plus 1 egg itemfn itemst 1 / 3 cup plus 1 tablespoon fresh lemon juice itemfn itemst 1 / 4 cup plus 1 / 2 cup plus 1 tablespoon olive oil , plus more for garnish itemfn itemst 2 each scallions , spring or green onions , thinly sliced itemfn itemst 1 x black pepper itemfn itemst 1 x bay leaf itemfn itemst 2 x cloves garlic salt itemfn itemst 1 x black pepper itemfn itemst 1 x 1 x 1 x\n",
            "\n",
            "####################\n",
            "Temperature: 1.0\n",
            "####################\n",
            "ingrlst itemst 6 cups of dried beans itemfn itemst 1 ( 16 ounce ) can tomato broth itemfn itemst 1 cup shredded sharp cheddar cheese itemfn itemst 14 cup mayonnaise or 14 teaspoon garlic powder itemfn itemst 18 teaspoon pepperitemfn ingrlfn instrst sentst cook raspberries as directed on package and 100 dessert plate . sentfn sentst remove strawberry and cook uncovered tortilla rounds under a 45 seconds over high heat , tossing occasionally until desired doneness ( 190c ) . sentfn sentst serve immediately in hot hot ! sentfn sentst instrfn\n",
            "\n",
            "ingrlst itemst 2 pkg . ( 3 / 4 oz . ) pkg . philadelphia cream cheese , divided itemfn itemst 3 pkg . ( 3 oz . ) each baker ' s semi - sweet chocolate , divided , itemfn itemst 2 / 3 cup smooth peanut butter itemfn itemst 1 cool , cut up , thawed itemfn itemst 1 pack cream of margarine itemfn itemst 1 chocolate , your favorite , finely chopped itemfn itemst powdered sugar itemfn itemst saltitemfn ingrlfn instrst sentst put heavy cream and sour cream in blender . sentfn sentst make sure chocolate mixture are covered with the and chocolate syrup , these will be . sentfn sentst next but just to remove large you the caramel immediately i store them from the mold you can add one of the fruit , stirring it ' as if you prefer to brown sugar . sentfn sentst remove from oven and use a spatula to shred the bananas . sentfn sentst simply lay the sliced peaches on a baking plate , maple syrup , sour cream , and medium for a few nice sure that you add you drink . sentfn sentst cover the cake with cocoa , rice and pudding mix . sentfn sentst reserve for a 1 / 2 cup of coconut . sentfn sentst place old pudding mix frosting over medium - size ricotta balls in a glass or 13 x 9 x 13 x 9 inch baking dish . sentfn sentst bake at 350 for 10 - 12 minutes . sentfn sentst cool : . sentfn sentst combine eggs , wine , mustard , lemon zest and 1 / 3 / 4 teaspoon pepper in large bowl , add eggs , parmesan , heavy cream and pepper ; beat to\n",
            "\n",
            "ingrlst itemst 2 cups extra - virgin olive oil itemfn itemst 2 tablespoons olive oil ( 3 to 10 inches cinnamon stick ) itemfn itemst kosher salt itemfn itemst ground chile , minced itemfn itemst 1 teaspoon chicken bouillon cubes itemfn itemst 3 / 4 teaspoons freshly grated ginger itemfn itemst 2 teaspoons kosher salt itemfn itemst 1 / 4 cups canola oil itemfn itemst breadcrumbs , to taste itemfn itemst all - purpose flour itemfn itemst cornmeal to 1 / 8 teaspoon more freshly - extract 1 / 4 cup preferably pan ( about some may need to another one pan ) , plus more to work until taste itemfn itemst 1 teaspoon kosher salt itemfn itemst 1 egg itemfn itemst 3 tablespoons freshly squeezed lemon juice itemfn itemst 6 tablespoons canola oil , plus more for greasing pan itemfn itemst 1 / 4 teaspoon garlic seed itemfn itemst 2 tomato , peeled and diced ( reserving 1 1 / 2 cups ) itemfn itemst tsp dried oregano leaves itemst parsley leaves , optional , desired itemfn itemst 1 teaspoon salt itemfn itemst 1 teaspoon lemon juice itemfn itemst 1 lb bacon or other diced pita bread itemfn itemst 1 tablespoon draineditemfn ingrlfn instrst sentst top each slice of bread with 12 teaspoon blue cheese cheese and more you like before serving , if desired . sentfn instrfn\n",
            "\n",
            "Epoch 5/5\n",
            "18645/18645 [==============================] - 677s 36ms/step - loss: 2.4536\n",
            "####################\n",
            "Temperature: 0.2\n",
            "####################\n",
            "ingrlst itemst 1 cup butter itemfn itemst 1 cup sugar itemfn itemst 1 cup sugar itemfn itemst 1 cup light corn syrup itemfn itemst 1 cup water itemfn itemst 1 cup sugar itemfn itemst 1 cup buttermilk itemfn itemst 1 cup whipping cream itemfn itemst 1 cup whipping cream itemfn itemst 1 cup whipping cream itemfn itemst 1 cup whipping cream itemfn itemst 1 cup heavy whipping creamitemfn ingrlfn instrst sentst combine all ingredients except the chocolate in a bowl and mix well . sentfn sentst add the butter and mix well . sentfn sentst add the flour and mix well . sentfn sentst add the flour mixture and mix well . sentfn sentst add the flour mixture to the flour and mix well . sentfn sentst add the flour mixture to the flour and mix well . sentfn sentst add the flour mixture and mix well . sentfn sentst add the flour mixture to the flour mixture and mix well . sentfn sentst add the flour and mix well . sentfn sentst add the flour , and mix well . sentfn sentst add the flour and mix well . sentfn sentst add the flour and mix well . sentfn sentst add the flour and mix well . sentfn sentst add the flour and mix well . sentfn sentst knead the dough in the flour and knead until the dough is smooth and elastic . sentfn sentst knead the dough in the flour and knead until the dough is smooth and elastic , about 10 minutes . sentfn sentst divide the dough into 4 equal portions , roll each piece into a ball and place in the bowl . sentfn sentst roll the dough into a ball and roll out the dough . sentfn sentst roll out the\n",
            "\n",
            "ingrlst itemst 1 cup vegetable oil itemfn itemst 1 cup sugar itemfn itemst 1 cup sugar itemfn itemst 1 cup sugar itemfn itemst 1 cup water itemfn itemst 1 cup sugar itemfn itemst 1 cup light corn syrup itemfn itemst 1 cup water itemfn itemst 1 cup sugar itemfn itemst 1 teaspoon vanilla extract itemfn itemst 1 cup water itemfn itemst 1 cup milk itemfn itemst 1 cup butter itemfn itemst 1 cup sugar itemfn itemst 1 cup milkitemfn ingrlfn instrst sentst preheat oven to 350 degrees . sentfn sentst mix together the flour , baking soda , salt and cinnamon in a large bowl . sentfn sentst add the butter and mix well . sentfn sentst add the flour and mix well . sentfn sentst add the butter and mix well . sentfn sentst add the flour and mix well . sentfn sentst add the flour and mix well . sentfn sentst add the flour and mix well . sentfn sentst add the flour and mix well . sentfn sentst add the flour and mix well . sentfn sentst add the flour and mix well . sentfn sentst add the flour and mix well . sentfn sentst add the flour and mix well . sentfn sentst add the flour and mix well . sentfn sentst add the flour and mix well . sentfn sentst add the flour mixture to the flour and mix well . sentfn sentst add the flour and mix well . sentfn sentst add the flour and mix well . sentfn sentst add the flour mixture and mix well . sentfn sentst add the flour , and mix well . sentfn sentst add the flour and mix well . sentfn sentst add the flour mixture to the flour mixture and mix well . sentfn\n",
            "\n",
            "ingrlst itemst 1 cup butter itemfn itemst 1 cup sugar itemfn itemst 1 cup water itemfn itemst 1 cup sugar itemfn itemst 1 cup light corn syrup itemfn itemst 1 teaspoon vanilla extract itemfn itemst 1 cup chopped walnuts itemfn itemst 1 cup chopped walnuts itemfn itemst 1 cup chopped pecans itemfn itemst 1 cup chopped walnuts itemfn itemst 1 cup chopped walnuts itemfn itemst 1 cup chopped pecans itemfn itemst 1 cup chopped pecans itemfn itemst 1 cup chopped pecans itemfn itemst 1 cup chopped walnuts itemfn itemst 1 cup sugar itemfn itemst 1 cup chopped walnuts itemfn itemst 1 cup chopped pecans itemfn itemst 1 cup chopped pecans itemfn itemst 1 cup chopped pecans itemfn itemst 1 cup chopped pecans itemfn itemst 1 cup chopped walnuts itemfn itemst 1 cup chopped pecans itemfn itemst 1 cup chopped pecans itemfn itemst 1 cup chopped walnuts itemfn itemst 1 cup chopped pecans itemfn itemst 1 cup chopped walnuts itemfn itemst 1 cup raisins itemfn itemst 1 cup chopped pecans itemfn itemst 1 cup chopped walnuts itemfn itemst 1 cup chopped walnuts itemfn itemst 1 cup chopped pecans itemfn itemst 1 cup chopped walnuts itemfn itemst 1 cup chopped pecans itemfn itemst 1 cup chopped pecans itemfn itemst 1 cup chopped pecans itemfn itemst 1 cup chopped walnuts itemfn itemst 1 cup chopped pecans itemfn itemst 1 cup chopped walnuts itemfn itemst 1 cup chopped pecans itemfn itemst 1 cup chopped pecans itemfn itemst 1 cup chopped walnuts itemfn itemst 1 cup chopped walnuts itemfn itemst 1 cup chopped walnuts itemfn itemst 1 cup whipping cream itemfn itemst 1 cup whipping cream itemfn itemst 1 cup whipping cream itemfn itemst 1 cup whipping cream itemfn itemst 1 teaspoon vanilla extractitemfn ingrlfn instrst sentst preheat oven to 350 degrees f\n",
            "\n",
            "####################\n",
            "Temperature: 0.5\n",
            "####################\n",
            "ingrlst itemst 1 / 2 cup canola oil itemfn itemst 2 large eggs itemfn itemst 2 large eggs itemfn itemst 2 cups sugar itemfn itemst 1 / 2 cup flour itemfn itemst 1 / 2 cup packed brown sugar itemfn itemst 1 / 2 cup butter itemfn itemst 3 tablespoons butter itemfn itemst 1 / 2 cup confectioners ' sugar itemfn itemst 1 / 2 teaspoon vanilla extract itemfn itemst 1 / 4 cup milk itemfn itemst 1 / 2 cup chopped walnuts itemfn itemst 1 cup chopped semisweet chocolate itemfn itemst 1 / 2 cup blueberries itemfn itemst 1 / 2 cup white sugar itemfn itemst 1 cup chopped walnuts itemfn itemst 1 / 2 cup finely chopped walnuts itemfn itemst 2 tablespoons finely chopped walnuts itemfn itemst 1 / 4 cup finely chopped walnuts itemfn itemst 1 cup sliced fresh strawberries itemfn itemst 1 tablespoon unsalted butter itemfn itemst 1 cup orange juice itemfn itemst 1 / 2 cup chopped fresh mint itemfn itemst 1 / 2 cup chopped fresh mint itemfn itemst 1 / 4 teaspoon salt itemfn itemst 1 / 2 cup fresh or pitted cherries itemfn itemst 1 / 2 teaspoon ground cinnamon itemfn itemst 1 / 4 teaspoon ground nutmeg itemfn itemst 1 / 2 cup chopped walnuts or 2 tablespoons chopped fresh mint itemfn itemst 2 tablespoons finely chopped fresh mint itemfn itemst 1 / 4 cup chopped fresh mint itemfn itemst 1 / 2 cup finely chopped fresh mint itemfn itemst 1 / 2 cup plus 2 tablespoons finely chopped fresh mint itemfn itemst 1 / 2 cup finely chopped fresh mint leaves itemfn itemst 1 / 2 cup coarsely chopped fresh mint leaves itemfn itemst 1 / 2 cup torn fresh mint leaves itemfn itemst 3 tablespoons chopped fresh\n",
            "\n",
            "ingrlst itemst 1 cup pineapple juice itemfn itemst 1 cup sugar itemfn itemst 1 cup water itemfn itemst 1 cup sugar itemfn itemst 1 cup apple juice itemfn itemst 1 cup apple cider itemfn itemst 1 cup powdered sugar itemfn itemst 1 cup butter itemfn itemst 1 cup crushed pineapple itemfn itemst 1 cup rolled oats itemfn itemst 1 cup chopped nuts itemfn itemst 1 teaspoon salt itemfn itemst 1 teaspoon ground cinnamon itemfn itemst 1 cup candied pineapple , chopped itemfn itemst 1 cup milkitemfn ingrlfn instrst sentst preheat oven to 375 degrees . sentfn sentst place the sugar and water in a large bowl . sentfn sentst mix in the egg , then mix well . sentfn sentst add flour and mix until well mixed . sentfn sentst add the sifted flour , salt and baking soda and stir to combine . sentfn sentst add the butter mixture and mix well . sentfn sentst add the dry ingredients to the flour mixture , mixing well . sentfn sentst add the flour mixture , mixing well after each addition . sentfn sentst add the flour mixture to the butter mixture , and mix well . sentfn sentst add the flour mixture to the mixture and mix well . sentfn sentst add the dry ingredients to the wet mixture , mixing well . sentfn sentst add the butter and mix well . sentfn sentst add the flour mixture to the egg mixture and mix well . sentfn sentst add the remaining 1 / 4 cup of sugar and the flour mixture to the butter . sentfn sentst add to the flour mixture , and mix well . sentfn sentst add the flour mixture and stir to combine . sentfn sentst add the egg and mix well . sentfn\n",
            "\n",
            "ingrlst itemst 1 cup sugar itemfn itemst 2 cups sugar itemfn itemst 1 cup light corn syrup itemfn itemst 1 cup water itemfn itemst 1 cup butter itemfn itemst 1 teaspoon vanilla extract itemfn itemst 1 cup plain yogurt itemfn itemst 1 cup water itemfn itemst 1 cup unsweetened cocoa itemfn itemst 1 cup heavy cream itemfn itemst 1 teaspoon vanilla extract itemfn itemst 1 cup chopped pecans itemfn itemst 1 cup chopped pecans itemfn itemst 1 cup white chocolate chips itemfn itemst 3 tablespoons butteritemfn ingrlfn instrst sentst preheat oven to 350 degrees . sentfn sentst grease and flour a bundt pan . sentfn sentst spray a large loaf tin with cooking spray . sentfn sentst combine the butter and sugar in a large bowl and add to the butter mixture . sentfn sentst mix in the sugar and flour . sentfn sentst add the butter to the flour and mix well . sentfn sentst add the butter and flour to butter and blend until smooth . sentfn sentst add the flour and mix well . sentfn sentst pour the batter into a greased 9 x 13 inch pan . sentfn sentst bake for 20 - 25 minutes or until the candy thermometer inserted into the center comes out clean . sentfn sentst remove from the oven and cool completely . sentfn sentst spread the frosting onto the cake and place the cake in a clean bowl . sentfn sentst use a fork to make the frosting . sentfn sentst to make the frosting : combine all the ingredients in a large bowl . sentfn sentst combine the flour and the remaining flour . sentfn sentst mix in the egg and vanilla . sentfn sentst add the eggs and mix well . sentfn sentst add the ground\n",
            "\n",
            "####################\n",
            "Temperature: 1.0\n",
            "####################\n",
            "ingrlst itemst 14 cup dried minced spinach itemfn itemst 1 tablespoon bottle dressing , divided itemfn itemst 1 bunch broccoli itemfn itemst 12 lb fresh okra itemfn itemst 1 cup tomato paste itemfn itemst 1 ( 1 . 5 ounce ) package instant noodles itemfn itemst 3 eggs itemfn itemst 1 giorno 2 teaspoons chopped fresh ginger itemfn itemst 1 teaspoon white pepper itemfn itemst 3 . 5 lbs beef roast itemfn itemst 4 lb spinach loin itemfn itemst 1 tbsp . wateritemfn ingrlfn instrst sentst chop corn and drain . sentfn sentst chop coarsely . sentfn sentst peel the onion and place on blender . sentfn sentst add all ingredients to beer and all of water , and mix well . sentfn sentst combine all ingredients in a blender or large soup it until smooth . sentfn sentst serve ! sentfn instrfn\n",
            "\n",
            "ingrlst itemst 4 12 cups whole wheat flour itemfn itemst 2 teaspoons baking powder itemfn scattered 34 teaspoon cinnamon itemfn itemst 1 teaspoon oil itemfn itemst 12 teaspoon cinnamon itemfn itemst 14 teaspoon lemon rind itemfn itemst 14 teaspoon salt itemfn itemst 1 teaspoon vanilla extract ( i use nutter ingrlfn instrst sentst preheat oven to 375 degrees f . . sentfn sentst unroll dough and place in 9x13 inch shallow baking pan . sentfn sentst beat margarine and butter until creamy . sentfn sentst gradually pour the mixture into large pot of the water in a separate skillet . sentfn sentst cook 20 minutes for topping . sentfn sentst add the walnuts , raisins , and cherries and stir gently until combined . sentfn sentst add the flour and stir to medium , but be careful not to overmix . sentfn sentst ( on the dough , spoon the blended batter into the saucepan and roll the pieces to combine into potato mixture ) . sentfn sentst bake for 15 minutes . sentfn instrfn\n",
            "\n",
            "ingrlst itemst 2 cups homemade or store - bought frozen breads . itemfn itemst 8 ounces , weight unsalted butter , melted and cooled itemfn itemst 1 - 1 / 3 cup cornstarch itemfn itemst 2 whole eggs itemfn itemst 1 tablespoon cinnamon itemfn itemst 1 cup chocolate chips itemfn itemst 1 / 4 cups sliced walnuts or 1 / 2 cups coconut itemfn itemst 1 / 4 cups unsalted butter , melted itemfn itemst 1 cup water itemfn itemst icing sugar itemfn itemst 1 / 2 cups heavy creamitemfn ingrlfn instrst sentst 2 . sentfn sentst round the cake : in the bowl of a standing mixer , mix the ingredients together and set aside . sentfn sentst combine cake mix , honey , cinnamon , and sliced olives in a large bowl . sentfn sentst of the mixture will cool . sentfn sentst add the butter and then pineapple well mixer to beat til the pudding mix is fluffy . sentfn sentst you will want to add mushy to make sure it ' s combined . sentfn sentst stir the cream coconut mixture in the jam . sentfn instrfn\n",
            "\n"
          ],
          "name": "stdout"
        }
      ]
    },
    {
      "cell_type": "markdown",
      "metadata": {
        "id": "gj_i8YKoL0dk"
      },
      "source": [
        "Let's generate some random texts:"
      ]
    },
    {
      "cell_type": "code",
      "metadata": {
        "id": "Pk5TvQDoYDIQ",
        "colab": {
          "base_uri": "https://localhost:8080/",
          "height": 521
        },
        "outputId": "3f2af900-b6e3-4eb6-9dc4-afbc531b0ce8"
      },
      "source": [
        "textgen.generate_samples(n=3)"
      ],
      "execution_count": null,
      "outputs": [
        {
          "output_type": "stream",
          "text": [
            "####################\n",
            "Temperature: 0.2\n",
            "####################\n",
            "ingrlst itemst 1 cup butter itemfn itemst 1 cup sugar itemfn itemst 1 cup sugar itemfn itemst 1 cup water itemfn itemst 1 cup sugar itemfn itemst 1 teaspoon vanilla itemfn itemst 1 cup chopped walnuts itemfn itemst 1 cup chopped walnuts itemfn itemst 1 cup chopped walnuts itemfn itemst 1 teaspoon vanilla itemfn itemst 1 cup butter itemfn itemst 1 cup butter itemfn itemst 1 cup sugar itemfn itemst 1 cup butter itemfn itemst 1 cup brown sugar itemfn itemst 1 teaspoon vanilla extract itemfn itemst 1 cup whipping cream itemfn itemst 1 cup whipping cream itemfn itemst 1 cup whipping cream itemfn itemst 1 cup whipping cream itemfn itemst 1 cup whipping cream itemfn itemst 1 teaspoon vanilla extract itemfn itemst 1 teaspoon vanilla extract itemfn itemst 1 teaspoon vanilla extract itemfn itemst 1 teaspoon vanilla extract itemfn itemst 1 cup unsalted butter , softened itemfn itemst 1 cup sugar itemfn itemst 1 teaspoon vanilla extract itemfn itemst 1 cup water itemfn itemst 1 cup whipping cream itemfn itemst 1 cup whipping cream itemfn itemst 1 cup semisweet chocolate chips itemfn itemst 1 cup whipping cream itemfn itemst 1 cup whipping cream itemfn itemst 1 teaspoon vanilla extractitemfn ingrlfn instrst sentst preheat oven to 350 degrees f . sentfn sentst in a large bowl , combine the flours , baking soda , salt , and cinnamon . sentfn sentst in a separate bowl , combine the flour , baking soda , salt and cinnamon . sentfn sentst add the dry ingredients to the wet mixture and stir to combine . sentfn sentst stir in the raisins and walnuts . sentfn sentst pour into a greased 9 x 13 inch pan . sentfn sentst bake for about 40 minutes , or until the muffins are lightly browned\n",
            "\n",
            "ingrlst itemst 1 cup unsalted butter itemfn itemst 1 cup sugar itemfn itemst 1 cup sugar itemfn itemst 1 cup light corn syrup itemfn itemst 1 cup packed brown sugar itemfn itemst 1 cup sugar itemfn itemst 1 teaspoon vanilla extract itemfn itemst 1 cup chopped pecans itemfn itemst 1 cup chopped walnuts itemfn itemst 1 cup chopped pecans itemfn itemst 1 cup chopped pecans itemfn itemst 1 cup chopped pecans itemfn itemst 1 cup chopped walnuts itemfn itemst 1 cup chopped walnuts itemfn itemst 1 cup chopped walnuts itemfn itemst 1 cup chopped walnuts itemfn itemst 1 cup chopped pecans itemfn itemst 1 cup chopped walnuts itemfn itemst 1 cup chopped pecans itemfn itemst 1 cup chopped pecans itemfn itemst 1 cup chopped walnuts itemfn itemst 1 cup chopped walnuts itemfn itemst 1 cup chopped walnuts itemfn itemst 1 cup chopped walnuts itemfn itemst 1 cup chopped pecans itemfn itemst 1 cup chopped pecans itemfn itemst 1 cup chopped pecans itemfn itemst 1 cup chopped walnuts itemfn itemst 1 cup chopped pecans itemfn itemst 1 cup chopped pecans itemfn itemst 1 cup chopped pecans itemfn itemst 1 cup chopped pecans itemfn itemst 1 cup chopped pecans itemfn itemst 1 cup chopped pecans itemfn itemst 1 cup chopped walnuts itemfn itemst 1 cup chopped walnuts itemfn itemst 1 cup chopped walnuts itemfn itemst 1 cup chopped pecans itemfn itemst 1 cup chopped walnuts itemfn itemst 1 cup chopped pecans itemfn itemst 1 cup chopped walnuts itemfn itemst 1 cup chopped walnuts itemfn itemst 1 cup chopped pecans itemfn itemst 1 cup chopped pecans itemfn itemst 1 cup butter itemfn itemst 1 cup chopped pecans itemfn itemst 1 cup chopped pecans itemfn itemst 1 cup chopped pecans itemfn itemst 1 cup chopped pecans itemfn itemst 1 cup chopped walnuts\n",
            "\n",
            "ingrlst itemst 1 cup butter itemfn itemst 1 cup sugar itemfn itemst 1 cup sugar itemfn itemst 1 cup sugar itemfn itemst 1 teaspoon vanilla extract itemfn itemst 1 cup butter itemfn itemst 1 cup milk itemfn itemst 1 cup sugar itemfn itemst 1 teaspoon vanilla extract itemfn itemst 1 cup butter itemfn itemst 1 cup sugar itemfn itemst 1 teaspoon vanilla extract itemfn itemst 1 teaspoon vanilla extract itemfn itemst 1 cup milk itemfn itemst 1 cup butter itemfn itemst 1 cup sugar itemfn itemst 1 teaspoon vanilla extract itemfn itemst 1 cup whipping cream itemfn itemst 1 cup milk itemfn itemst 1 cup whipping cream itemfn itemst 1 cup whipping cream itemfn itemst 1 cup whipping cream itemfn itemst 1 cup powdered sugar itemfn itemst 1 cup sugar itemfn itemst 1 teaspoon vanilla extract itemfn itemst 1 teaspoon vanilla extract itemfn itemst 1 cup semisweet chocolate chips itemfn itemst 1 cup whipping cream itemfn itemst 1 cup whipping cream itemfn itemst 1 cup whipping cream itemfn itemst 1 cup whipping cream itemfn itemst 1 cup whipping cream itemfn itemst 1 cup whipping cream itemfn itemst 1 cup whipping cream itemfn itemst 1 cup whipping cream itemfn itemst 1 cup whipping cream itemfn itemst 1 cup whipping cream itemfn itemst 1 cup whipping cream itemfn itemst 1 cup whipping cream itemfn itemst 1 cup whipping cream itemfn itemst 1 cup whipping cream itemfn itemst 1 cup whipping cream itemfn itemst 1 tablespoon fresh lemon juice itemfn itemst 1 tablespoon butter , softened itemfn itemst 1 tablespoon butter , softened itemfn itemst 1 tablespoon butter itemfn itemst 1 cup heavy whipping cream itemfn itemst 1 cup whipping cream itemfn itemst 1 teaspoon vanilla extract itemfn itemst 1 cup butter , softened itemfn itemst 1 cup sugar itemfn itemst\n",
            "\n",
            "####################\n",
            "Temperature: 0.5\n",
            "####################\n",
            "ingrlst itemst 1 / 4 cup olive oil itemfn itemst 2 tablespoons unsalted butter itemfn itemst 1 cup finely chopped onion itemfn itemst 2 tablespoons chopped fresh mint leaves itemfn itemst 1 / 2 teaspoon ground nutmeg itemfn itemst 1 / 4 teaspoon ground coriander itemfn itemst 1 / 4 teaspoon ground nutmeg itemfn itemst 2 tablespoons finely chopped fresh mint itemfn itemst 1 tablespoon finely chopped fresh mint leaves itemfn itemst 2 tablespoons chopped fresh mint leaves itemfn itemst 2 tablespoons finely chopped fresh mint itemfn itemst 1 tablespoon finely chopped fresh mint itemfn itemst 2 tablespoons finely chopped fresh mint itemfn itemst 2 tablespoons finely chopped fresh mint itemfn itemst 2 teaspoons chopped fresh mint itemfn itemst 1 tablespoon finely chopped fresh mint itemfn itemst 1 teaspoon chopped fresh mint itemfn itemst 1 tablespoon fresh lime juice itemfn itemst 1 tablespoon fresh lemon juice itemfn itemst 1 tablespoon fresh lime juice itemfn itemst 1 tablespoon lime juice itemfn itemst 1 tablespoon olive oil itemfn itemst 1 tablespoon minced fresh mint itemfn itemst 2 teaspoons minced garlic itemfn itemst 1 tablespoon minced fresh mint itemfn itemst 1 tablespoon chopped fresh mint itemfn itemst 1 teaspoon kosher salt itemfn itemst 12 teaspoon freshly ground black pepper itemfn itemst 14 cup fresh basil , chopped itemfn itemst 1 cup fresh lemon juice itemfn itemst 1 tablespoon olive oil itemfn itemst 12 teaspoon salt itemfn itemst 1 teaspoon black pepper itemfn itemst 1 teaspoon chili salt itemfn itemst 1 tablespoon fresh thyme leavesitemfn ingrlfn instrst sentst in a large bowl , mix together the mayonnaise , mustard , vinegar , salt and pepper . sentfn sentst add the water to the pasta and toss to coat . sentfn sentst pour the dressing over the top . sentfn instrfn\n",
            "\n",
            "ingrlst itemst 1 cup dried cranberries itemfn itemst 1 cup sugar itemfn itemst 1 tablespoon vanilla extract itemfn itemst 12 cup low - fat milk itemfn itemst 1 cup sugar itemfn itemst 2 cups wateritemfn ingrlfn instrst sentst preheat oven to 325f . sentfn sentst spray muffin pan with cooking spray . sentfn sentst beat butter and sugar until light and fluffy . sentfn sentst add eggs and vanilla , beating well . sentfn sentst stir in vanilla and applesauce . sentfn sentst mix in flour and continue baking until dough is moistened . sentfn sentst divide batter into 4 equal portions . sentfn sentst place in greased muffin pans , and bake for 35 - 40 minutes . sentfn sentst let cool for 15 minutes . sentfn sentst remove the cakes from the pans and cool completely on a wire rack . sentfn sentst for the cake : beat the egg whites with the sugar , sugar and vanilla until pale and fluffy . sentfn sentst add the vanilla extract and vanilla extract . sentfn sentst mix well and spread the mixture over the batter . sentfn sentst bake for 10 - 12 minutes or until the cookies are lightly browned . sentfn sentst remove from the oven and cool completely . sentfn sentst to serve , remove the cake from the oven and stir in the chocolate . sentfn sentst remove the cake from the pan . sentfn sentst cool completely in the refrigerator . sentfn sentst the cupcakes : cover with plastic wrap and refrigerate until set , about 1 hour . sentfn sentst remove the quart of the pudding from the vanilla and set aside . sentfn sentst whisk the egg yolks with a little at a time , beating well after each addition\n",
            "\n",
            "ingrlst itemst 1 cup finely chopped onion itemfn itemst 1 cup diced onion itemfn itemst 1 teaspoon salt itemfn itemst 1 teaspoon ground black pepper itemfn itemst 1 teaspoon ground pepper itemfn itemst 2 tablespoons extra virgin olive oil itemfn itemst 12 cup chopped onion itemfn itemst 1 cup chopped onion itemfn itemst 1 teaspoon salt itemfn itemst 14 teaspoon ground pepper itemfn itemst 1 cup finely chopped green onion itemfn itemst 1 tablespoon chopped fresh basil itemfn itemst 1 tablespoon chopped fresh thyme itemfn itemst 1 tablespoon chopped fresh mint itemfn itemst 1 tablespoon dried oregano itemfn itemst 1 tablespoon dried oregano itemfn itemst 1 tablespoon dried oregano itemfn itemst 1 teaspoon dried oregano itemfn itemst 1 teaspoon dried oregano itemfn itemst 1 tablespoon cayenne pepper itemfn itemst 1 cup chopped fresh italian parsley itemfn itemst 1 tablespoon dried oregano itemfn itemst 1 tablespoon dried oregano itemfn itemst 1 tablespoon dried oregano itemfn itemst 1 tablespoon dried oregano itemfn itemst 1 tablespoon dried oregano itemfn itemst 1 teaspoon ground black pepper itemfn itemst 1 teaspoon ground black pepper itemfn itemst 1 teaspoon dried oregano itemfn itemst 12 teaspoon dried oregano itemfn itemst 14 teaspoon ground black pepper itemfn itemst 1 12 cups chopped fresh parsley itemfn itemst 1 tablespoon parsley , finely choppeditemfn ingrlfn instrst sentst preheat oven to 375 degrees . sentfn sentst heat the oil in a large skillet over medium heat . sentfn sentst add the onions and garlic and cook over medium heat , stirring occasionally , until softened and translucent , about 5 minutes . sentfn sentst add the garlic and cook until soft . sentfn sentst add the tomatoes , and cook for 1 minute . sentfn sentst add the vinegar and water to the skillet . sentfn sentst season with\n",
            "\n",
            "####################\n",
            "Temperature: 1.0\n",
            "####################\n",
            "ingrlst itemst 1 lb salmon itemfn itemst 4 tablespoons lemon juice itemfn itemst sizzle ( 1 small ) itemfn itemst 1 ( 16 ounce ) softened butter itemfn itemst 12 cup butter itemfn itemst 2 tablespoons onions ( finely chopped ) itemfn itemst 1 ( 12 ounce ) package frozen unsweetened kernel corn starter itemfn itemst no - salt itemfn itemst 14 cup water itemfn itemst 12 cup mushroom caps itemfn itemst 1 cup sour cream itemfn itemst 1 / 4 cup milk itemfn itemst 2 tablespoons chipotle finely diced itemfn itemst 2 tablespoons old bay seasoning itemfn itemst 2 tablespoons diced shallot itemfn itemst 1 tablespoon plus 1 tablespoon fresh lemon juice itemfn itemst 2 tablespoons freshly grated parmigiano - reggiano cheeseitemfn ingrlfn instrst sentst fill a large pot plates with vegetable oil or thinly sliced cup tomatoes . sentfn sentst in a large skillet , bring the beans to a boil and cover with water . sentfn sentst remove on a serving dish . sentfn sentst continue cooking the spaghetti at medium - high heat for 6 minutes . sentfn sentst pour warm water and next the wood chips over top of the sauce and stir the remaining ingredients in the cooker . sentfn sentst makes the soup mixture will be a , but flavor thicker . sentfn instrfn\n",
            "\n",
            "ingrlst itemst 2 cups fennel seeds itemfn itemst 1 teaspoon dried crushed rosemary itemfn itemst 1 teaspoon oil itemfn itemst 1 orange itemfn itemst 6 ( 4 - ounce ) squares thinly sliced bananas itemfn itemst 4 cups apples itemfn itemst 1 cup confectioners ' sugaritemfn ingrlfn instrst sentst make the coconut cream : cut out the with the cream and put it into the slow heat . sentfn sentst remove the pan of the set of the oven on a wire rack ; set discreetly to cool for 2 - 3 minutes . sentfn sentst prepare the frosting : sentfn sentst whip the cream cheese on low . sentfn sentst in a large bowl , add the sugar and flour just until blended . sentfn sentst in another medium bowl , add together the flour , almonds , baking powder and salt and beat on medium speed . sentfn sentst place your muffin tins in the preheated crust . sentfn sentst combine 1 / 2 cup of the and half of the sugar and 1 egg . sentfn sentst sprinkle with sugar and bake for 5 minutes . sentfn sentst let chocolate glaze . sentfn sentst while apples are cool , put fruit in a bowl until almost done . sentfn sentst in a bowl , whisk together heavy cream , butter and chocolate . sentfn sentst combine the eggs , sugar and milk , and beat the gently while it . sentfn sentst the slowly seems or pulsing , whisking with a wooden spoon and scraping the bottom of the bowl of the bowl with a metal beat . sentfn sentst season the mixture and beat in the butter or another cup of whisk until mixture just begins to thicken . sentfn sentst divide the the\n",
            "\n",
            "ingrlst itemst 1 lb sliced turkey itemfn itemst 1 ( 10 ounce ) diced tomatoes itemfn itemst 4 ( 16 ounce ) cans kidney beans , drained itemfn itemst 1 cup mushroom itemfn itemst 3 cups parmesan cheese itemfn itemst 12 cup milk itemfn itemst 1 cup shredded cheddar cheeseitemfn ingrlfn instrst sentst mix olive oil into soy sauce and sprinkle a cup of flour over each serving . sentfn sentst saute onions and ground beef in the raw vegetables ( 10 low degrees c ) . sentfn sentst heat a skillet over high heat , and butter evenly over the top . sentfn sentst add the veal cubes , adjust bread : bake another 3 hours at 22 minutes . sentfn sentst in another pan ( if from the mixing heat is melt to medium ) . sentfn sentst place rice occasionally and immediately dip of egg separately in the water to cover ( it will melt more soft easily ) . sentfn sentst spoon while the remaining soup mixture is warm around the sugar and make coating 2 hours from your favorite . sentfn sentst serve meatloaf over warm a bed of parmesan in a small 1 / 2 cup ( reserve liquid ) with sauce . sentfn sentst for a nice . sentfn instrfn\n",
            "\n"
          ],
          "name": "stdout"
        }
      ]
    },
    {
      "cell_type": "markdown",
      "metadata": {
        "id": "29ck1axLL42K"
      },
      "source": [
        "Now I have decided to try generating texts with the given start -- I take the recipes I have not taken before for training and get the ingedients list from it. "
      ]
    },
    {
      "cell_type": "code",
      "metadata": {
        "id": "6jqaul3lY-G1"
      },
      "source": [
        "preftext = \"ingrlst itemst \" + \\\n",
        "  \" itemfn itemst \".join([item['text'] for item in recipes[20000]['ingredients']]) + \\\n",
        "  \" itemfn ingrlfn \""
      ],
      "execution_count": null,
      "outputs": []
    },
    {
      "cell_type": "code",
      "metadata": {
        "id": "Pt9iauJZnB2a",
        "colab": {
          "base_uri": "https://localhost:8080/",
          "height": 125
        },
        "outputId": "d8298a46-cef2-424b-9fdd-624fd5e06160"
      },
      "source": [
        "preftext"
      ],
      "execution_count": null,
      "outputs": [
        {
          "output_type": "execute_result",
          "data": {
            "application/vnd.google.colaboratory.intrinsic+json": {
              "type": "string"
            },
            "text/plain": [
              "'ingrlst itemst 1 whole Lemon, Sliced Thin On The Horizontal To Form Rings itemfn itemst 1 cup Water itemfn itemst 23 cups Sugar itemfn itemst 1- 1/2 Tablespoon Flax Meal itemfn itemst 1- 1/2 Tablespoon Chia Seeds itemfn itemst 3 Tablespoons Boiling Water itemfn itemst 3/4 cups Sweet Rice Flour itemfn itemst 1/4 cups Corn Flour itemfn itemst 1 cup Potato Starch itemfn itemst 1/2 cups Brown Rice Flour itemfn itemst 1/2 cups Brown Sugar itemfn itemst 3 teaspoons Baking Powder itemfn itemst 1/2 teaspoons Salt itemfn itemst 1/2 cups Butter, Cold, Cut Into Small Pieces itemfn itemst 1 cup Buttermilk itemfn itemst 2 whole Eggs itemfn ingrlfn '"
            ]
          },
          "metadata": {
            "tags": []
          },
          "execution_count": 25
        }
      ]
    },
    {
      "cell_type": "code",
      "metadata": {
        "id": "w6ohItIenDK7",
        "colab": {
          "base_uri": "https://localhost:8080/",
          "height": 521
        },
        "outputId": "ca7fe8b8-c9f5-4663-f1bd-53da43c94aa2"
      },
      "source": [
        "textgen.generate_samples(n=3, prefix=preftext)"
      ],
      "execution_count": null,
      "outputs": [
        {
          "output_type": "stream",
          "text": [
            "####################\n",
            "Temperature: 0.2\n",
            "####################\n",
            "ingrlst itemst 1 whole lemon , sliced thin on the horizontal to form rings itemfn itemst 1 cup water itemfn itemst 23 cups sugar itemfn itemst 1 - 1 / 2 tablespoon flax meal itemfn itemst 1 - 1 / 2 tablespoon chia seeds itemfn itemst 3 tablespoons boiling water itemfn itemst 3 / 4 cups sweet rice flour itemfn itemst 1 / 4 cups corn flour itemfn itemst 1 cup potato starch itemfn itemst 1 / 2 cups brown rice flour itemfn itemst 1 / 2 cups brown sugar itemfn itemst 3 teaspoons baking powder itemfn itemst 1 / 2 teaspoons salt itemfn itemst 1 / 2 cups butter , cold , cut into small pieces itemfn itemst 1 cup buttermilk itemfn itemst 2 whole eggs itemfn ingrlfn instrst sentst preheat oven to 350 degrees f . sentfn sentst in a large bowl , combine the flour , baking soda and salt . sentfn sentst add the butter , and mix well . sentfn sentst add the flour and mix well . sentfn sentst add the flour and mix well . sentfn sentst add the butter and mix well . sentfn sentst add the flour and mix well . sentfn sentst add the flour mixture to the flour and mix well . sentfn sentst add the flour and mix well . sentfn sentst add the butter and mix well . sentfn sentst add the flour mixture to the flour mixture . sentfn sentst add the flour mixture to the flour and mix well . sentfn sentst add the flour mixture to the butter mixture and mix well . sentfn sentst add the flour mixture and mix well . sentfn sentst add the flour mixture to the flour and mix well . sentfn sentst add the flour and\n",
            "\n",
            "ingrlst itemst 1 whole lemon , sliced thin on the horizontal to form rings itemfn itemst 1 cup water itemfn itemst 23 cups sugar itemfn itemst 1 - 1 / 2 tablespoon flax meal itemfn itemst 1 - 1 / 2 tablespoon chia seeds itemfn itemst 3 tablespoons boiling water itemfn itemst 3 / 4 cups sweet rice flour itemfn itemst 1 / 4 cups corn flour itemfn itemst 1 cup potato starch itemfn itemst 1 / 2 cups brown rice flour itemfn itemst 1 / 2 cups brown sugar itemfn itemst 3 teaspoons baking powder itemfn itemst 1 / 2 teaspoons salt itemfn itemst 1 / 2 cups butter , cold , cut into small pieces itemfn itemst 1 cup buttermilk itemfn itemst 2 whole eggs itemfn ingrlfn instrst sentst preheat oven to 350 degrees f . sentfn sentst in a large bowl , combine the flour , baking soda , salt and cinnamon . sentfn sentst add the butter and mix well . sentfn sentst add the dry ingredients and mix well . sentfn sentst add the flour mixture to the batter and mix well . sentfn sentst add the flour and mix well . sentfn sentst add the flour and mix well . sentfn sentst add the flour and mix well . sentfn sentst add the flour and mix well . sentfn sentst add the flour and mix well . sentfn sentst add the flour and mix well . sentfn sentst add the flour and mix well . sentfn sentst add the flour and mix well . sentfn sentst add the flour and mix well . sentfn sentst add the flour and mix well . sentfn sentst add the flour mixture and mix well . sentfn sentst add the flour and mix well . sentfn\n",
            "\n",
            "ingrlst itemst 1 whole lemon , sliced thin on the horizontal to form rings itemfn itemst 1 cup water itemfn itemst 23 cups sugar itemfn itemst 1 - 1 / 2 tablespoon flax meal itemfn itemst 1 - 1 / 2 tablespoon chia seeds itemfn itemst 3 tablespoons boiling water itemfn itemst 3 / 4 cups sweet rice flour itemfn itemst 1 / 4 cups corn flour itemfn itemst 1 cup potato starch itemfn itemst 1 / 2 cups brown rice flour itemfn itemst 1 / 2 cups brown sugar itemfn itemst 3 teaspoons baking powder itemfn itemst 1 / 2 teaspoons salt itemfn itemst 1 / 2 cups butter , cold , cut into small pieces itemfn itemst 1 cup buttermilk itemfn itemst 2 whole eggs itemfn ingrlfn instrst sentst preheat oven to 350 degrees f . sentfn sentst in a large bowl , combine the flour , baking soda , salt and cinnamon . sentfn sentst add the butter and mix well . sentfn sentst add the flour , baking soda and salt . sentfn sentst mix well . sentfn sentst add the flour and mix well . sentfn sentst add the flour and mix well . sentfn sentst add the flour and mix well . sentfn sentst add in the flour and mix well . sentfn sentst add in the flour and mix well . sentfn sentst add in the flour and mix well . sentfn sentst add in the flour and mix well . sentfn sentst add in the flour and mix well . sentfn sentst add in the flour and mix well . sentfn sentst add in the flour and mix well . sentfn sentst add in the flour and mix well . sentfn sentst add in the flour and mix well .\n",
            "\n",
            "####################\n",
            "Temperature: 0.5\n",
            "####################\n",
            "ingrlst itemst 1 whole lemon , sliced thin on the horizontal to form rings itemfn itemst 1 cup water itemfn itemst 23 cups sugar itemfn itemst 1 - 1 / 2 tablespoon flax meal itemfn itemst 1 - 1 / 2 tablespoon chia seeds itemfn itemst 3 tablespoons boiling water itemfn itemst 3 / 4 cups sweet rice flour itemfn itemst 1 / 4 cups corn flour itemfn itemst 1 cup potato starch itemfn itemst 1 / 2 cups brown rice flour itemfn itemst 1 / 2 cups brown sugar itemfn itemst 3 teaspoons baking powder itemfn itemst 1 / 2 teaspoons salt itemfn itemst 1 / 2 cups butter , cold , cut into small pieces itemfn itemst 1 cup buttermilk itemfn itemst 2 whole eggs itemfn ingrlfn instrst sentst preheat oven to 350 degrees f ( 175 degrees c ) . sentfn sentst grease a 12 - cup muffin tin with cooking spray . sentfn sentst grease a 9 - by - 13 - inch baking pan . sentfn sentst melt the chocolate in a large bowl and mix well . sentfn sentst stir in the sugar and salt . sentfn sentst place the preheated oven to the oven and bake for 10 minutes . sentfn sentst remove the pans from the oven and set aside . sentfn sentst in a large bowl , combine the sugar , salt , and baking soda . sentfn sentst stir in the the walnuts , raisins , and raisins . sentfn sentst add the butter and stir until combined . sentfn sentst you will need to a mixture to touch the dough . sentfn sentst i use a pastry blender to the 12 - inch - sized skillet . sentfn sentst when it is thick enough to hold the\n",
            "\n",
            "ingrlst itemst 1 whole lemon , sliced thin on the horizontal to form rings itemfn itemst 1 cup water itemfn itemst 23 cups sugar itemfn itemst 1 - 1 / 2 tablespoon flax meal itemfn itemst 1 - 1 / 2 tablespoon chia seeds itemfn itemst 3 tablespoons boiling water itemfn itemst 3 / 4 cups sweet rice flour itemfn itemst 1 / 4 cups corn flour itemfn itemst 1 cup potato starch itemfn itemst 1 / 2 cups brown rice flour itemfn itemst 1 / 2 cups brown sugar itemfn itemst 3 teaspoons baking powder itemfn itemst 1 / 2 teaspoons salt itemfn itemst 1 / 2 cups butter , cold , cut into small pieces itemfn itemst 1 cup buttermilk itemfn itemst 2 whole eggs itemfn ingrlfn instrst sentst preheat the oven to 350 degrees f ( 175 degrees c ) . sentfn sentst in a large bowl , combine the flour , baking soda and salt . sentfn sentst in a separate bowl , combine the butter , butter , and sugar and mix well . sentfn sentst stir in the chocolate chips . sentfn sentst pour the batter into the prepared pan . sentfn sentst bake for 30 minutes , until golden brown . sentfn sentst remove the pans from the oven and set aside . sentfn sentst to make the glaze , combine the cocoa , sugar , eggs , and salt in a large saucepan . sentfn sentst bring to a boil , stirring constantly . sentfn sentst cook and stir over medium heat until the mixture is set and the mixture is thick . sentfn sentst remove from the heat and transfer to a bowl and refrigerate until cold . sentfn sentst in a large bowl , beat the egg whites\n",
            "\n",
            "ingrlst itemst 1 whole lemon , sliced thin on the horizontal to form rings itemfn itemst 1 cup water itemfn itemst 23 cups sugar itemfn itemst 1 - 1 / 2 tablespoon flax meal itemfn itemst 1 - 1 / 2 tablespoon chia seeds itemfn itemst 3 tablespoons boiling water itemfn itemst 3 / 4 cups sweet rice flour itemfn itemst 1 / 4 cups corn flour itemfn itemst 1 cup potato starch itemfn itemst 1 / 2 cups brown rice flour itemfn itemst 1 / 2 cups brown sugar itemfn itemst 3 teaspoons baking powder itemfn itemst 1 / 2 teaspoons salt itemfn itemst 1 / 2 cups butter , cold , cut into small pieces itemfn itemst 1 cup buttermilk itemfn itemst 2 whole eggs itemfn ingrlfn instrst sentst preheat the oven to 350 degrees f ( 175 degrees c ) . sentfn sentst grease a 12 - inch loaf pan . sentfn sentst combine the orange juice , milk , mustard , and salt in a bowl . sentfn sentst stir in the chicken and 1 / 4 cup of the mixture . sentfn sentst spread the mixture over the chicken and sprinkle with the remaining 1 / 4 cup of the paprika . sentfn sentst bake for 35 - 40 minutes , or until the cheese is melted and bubbly . sentfn sentst serve the chips over the bread . sentfn instrfn\n",
            "\n",
            "####################\n",
            "Temperature: 1.0\n",
            "####################\n",
            "ingrlst itemst 1 whole lemon , sliced thin on the horizontal to form rings itemfn itemst 1 cup water itemfn itemst 23 cups sugar itemfn itemst 1 - 1 / 2 tablespoon flax meal itemfn itemst 1 - 1 / 2 tablespoon chia seeds itemfn itemst 3 tablespoons boiling water itemfn itemst 3 / 4 cups sweet rice flour itemfn itemst 1 / 4 cups corn flour itemfn itemst 1 cup potato starch itemfn itemst 1 / 2 cups brown rice flour itemfn itemst 1 / 2 cups brown sugar itemfn itemst 3 teaspoons baking powder itemfn itemst 1 / 2 teaspoons salt itemfn itemst 1 / 2 cups butter , cold , cut into small pieces itemfn itemst 1 cup buttermilk itemfn itemst 2 whole eggs itemfn ingrlfn instrst sentst 400f the crumbs also ( you may use package of your choice ingredients your ) . sentfn sentst dip into wet ingredients , stir into well , to coat it in a small bowl , sprinkle batter on top and bake for 30 - 40 minutes or until set but still firm . sentfn sentst then pour into the warmed cream and cook time . sentfn sentst then add 14 cup powdered sugar and stir until it reaches medium balls . sentfn sentst cool whip , and whip until fluffy . sentfn instrfn\n",
            "\n",
            "ingrlst itemst 1 whole lemon , sliced thin on the horizontal to form rings itemfn itemst 1 cup water itemfn itemst 23 cups sugar itemfn itemst 1 - 1 / 2 tablespoon flax meal itemfn itemst 1 - 1 / 2 tablespoon chia seeds itemfn itemst 3 tablespoons boiling water itemfn itemst 3 / 4 cups sweet rice flour itemfn itemst 1 / 4 cups corn flour itemfn itemst 1 cup potato starch itemfn itemst 1 / 2 cups brown rice flour itemfn itemst 1 / 2 cups brown sugar itemfn itemst 3 teaspoons baking powder itemfn itemst 1 / 2 teaspoons salt itemfn itemst 1 / 2 cups butter , cold , cut into small pieces itemfn itemst 1 cup buttermilk itemfn itemst 2 whole eggs itemfn ingrlfn instrst sentst preheat the oven to 375 degrees f . spray a large muffin tin with flour shelf : in 1 / 2 quart of cake oven to only 7 minutes then dry your two candy thermometer reads the degrees f ) . sentfn sentst leave the cookies , then set aside the mixture sentfn sentst only 5 cups of icing over bread . sentfn sentst wash thoroughly , set your aside for 2 to 3 minutes or until it is thick and pale yellow and set aside . sentfn sentst in a large bowl , combine egg , the sugar , the zest , 1 cup of the soy milk , rice syrup , water and sugars , and whisk until combined . sentfn sentst in a small bowl , combine the flours , sugars , baking soda and salt and add to the creamed mixture . sentfn sentst beat well , then transfer the batter to a food processor or blender with the yeast mixture . sentfn\n",
            "\n",
            "ingrlst itemst 1 whole lemon , sliced thin on the horizontal to form rings itemfn itemst 1 cup water itemfn itemst 23 cups sugar itemfn itemst 1 - 1 / 2 tablespoon flax meal itemfn itemst 1 - 1 / 2 tablespoon chia seeds itemfn itemst 3 tablespoons boiling water itemfn itemst 3 / 4 cups sweet rice flour itemfn itemst 1 / 4 cups corn flour itemfn itemst 1 cup potato starch itemfn itemst 1 / 2 cups brown rice flour itemfn itemst 1 / 2 cups brown sugar itemfn itemst 3 teaspoons baking powder itemfn itemst 1 / 2 teaspoons salt itemfn itemst 1 / 2 cups butter , cold , cut into small pieces itemfn itemst 1 cup buttermilk itemfn itemst 2 whole eggs itemfn ingrlfn instrst sentst drain the pineapple , then put into a large bowl . sentfn sentst reserve the cup . sentfn sentst meanwhile , combine chocolate chips and sugar in a large bowl . sentfn sentst stir until slightly thickened , about 8 minutes . sentfn sentst add 1 / 2 cup of 1 / 2 cup of the whites and then beat until stiff peaks form , about mixture ) . sentfn sentst brush each half over hot dough by lightly both sides and cut during the baking . sentfn sentst sprinkle with cinnamon and glaze . sentfn sentst cookies sentfn sentst melt chocolate chips and butter over medium heat . sentfn sentst stir together the caramel topping and eggs . sentfn sentst place onto squares and to warmed molds and place on a plate . sentfn sentst run knife around each 8 sides to touch in center of each rectangle . sentfn sentst invert onto well floured surface sprayed with cooking spray , pressing into rounds . sentfn\n",
            "\n"
          ],
          "name": "stdout"
        }
      ]
    },
    {
      "cell_type": "code",
      "metadata": {
        "id": "in6C84M8nSqA"
      },
      "source": [
        ""
      ],
      "execution_count": null,
      "outputs": []
    },
    {
      "cell_type": "markdown",
      "metadata": {
        "id": "rWQ1O6jHNKPe"
      },
      "source": [
        "## Simple markov chain based text generation\n",
        "\n",
        "Faster to run! Worse results :( Good simple baseline though.\n",
        "\n",
        "You can see an example here: https://github.com/Javanochka/jokes-generator/blob/master/baselines/Markov_chains_generator.ipynb\n",
        "\n",
        "Though, I advise to use the following tokenization instead of the one written there:"
      ]
    },
    {
      "cell_type": "code",
      "metadata": {
        "id": "z7SH4cHaNOZm",
        "colab": {
          "base_uri": "https://localhost:8080/",
          "height": 71
        },
        "outputId": "eb1adfae-1b05-4621-f0f8-d1cd1dfb96c2"
      },
      "source": [
        "import nltk\n",
        "nltk.download('punkt')"
      ],
      "execution_count": null,
      "outputs": [
        {
          "output_type": "stream",
          "text": [
            "[nltk_data] Downloading package punkt to /root/nltk_data...\n",
            "[nltk_data]   Unzipping tokenizers/punkt.zip.\n"
          ],
          "name": "stdout"
        },
        {
          "output_type": "execute_result",
          "data": {
            "text/plain": [
              "True"
            ]
          },
          "metadata": {
            "tags": []
          },
          "execution_count": 9
        }
      ]
    },
    {
      "cell_type": "code",
      "metadata": {
        "id": "-Kw81q7jOVpo"
      },
      "source": [
        "from nltk.tokenize import word_tokenize"
      ],
      "execution_count": null,
      "outputs": []
    },
    {
      "cell_type": "code",
      "metadata": {
        "id": "kTFFV8sxO1Qb",
        "colab": {
          "base_uri": "https://localhost:8080/",
          "height": 1000
        },
        "outputId": "431284bc-ad52-47cb-e867-4409d92d2b31"
      },
      "source": [
        "word_tokenize(texts[2])"
      ],
      "execution_count": null,
      "outputs": [
        {
          "output_type": "execute_result",
          "data": {
            "text/plain": [
              "['ingrlst',\n",
              " 'itemst',\n",
              " '8',\n",
              " 'tomatoes',\n",
              " ',',\n",
              " 'quartered',\n",
              " 'itemfn',\n",
              " 'itemst',\n",
              " 'Kosher',\n",
              " 'salt',\n",
              " 'itemfn',\n",
              " 'itemst',\n",
              " '1',\n",
              " 'red',\n",
              " 'onion',\n",
              " ',',\n",
              " 'cut',\n",
              " 'into',\n",
              " 'small',\n",
              " 'dice',\n",
              " 'itemfn',\n",
              " 'itemst',\n",
              " '1',\n",
              " 'green',\n",
              " 'bell',\n",
              " 'pepper',\n",
              " ',',\n",
              " 'cut',\n",
              " 'into',\n",
              " 'small',\n",
              " 'dice',\n",
              " 'itemfn',\n",
              " 'itemst',\n",
              " '1',\n",
              " 'red',\n",
              " 'bell',\n",
              " 'pepper',\n",
              " ',',\n",
              " 'cut',\n",
              " 'into',\n",
              " 'small',\n",
              " 'dice',\n",
              " 'itemfn',\n",
              " 'itemst',\n",
              " '1',\n",
              " 'yellow',\n",
              " 'bell',\n",
              " 'pepper',\n",
              " ',',\n",
              " 'cut',\n",
              " 'into',\n",
              " 'small',\n",
              " 'dice',\n",
              " 'itemfn',\n",
              " 'itemst',\n",
              " '1/2',\n",
              " 'cucumber',\n",
              " ',',\n",
              " 'cut',\n",
              " 'into',\n",
              " 'small',\n",
              " 'dice',\n",
              " 'itemfn',\n",
              " 'itemst',\n",
              " 'Extra-virgin',\n",
              " 'olive',\n",
              " 'oil',\n",
              " ',',\n",
              " 'for',\n",
              " 'drizzling',\n",
              " 'itemfn',\n",
              " 'itemst',\n",
              " '3',\n",
              " 'leaves',\n",
              " 'fresh',\n",
              " 'basil',\n",
              " ',',\n",
              " 'finely',\n",
              " 'chopped',\n",
              " 'itemfn',\n",
              " 'ingrlfn',\n",
              " 'instrst',\n",
              " 'sentst',\n",
              " 'Add',\n",
              " 'the',\n",
              " 'tomatoes',\n",
              " 'to',\n",
              " 'a',\n",
              " 'food',\n",
              " 'processor',\n",
              " 'with',\n",
              " 'a',\n",
              " 'pinch',\n",
              " 'of',\n",
              " 'salt',\n",
              " 'and',\n",
              " 'puree',\n",
              " 'until',\n",
              " 'smooth',\n",
              " '.',\n",
              " 'sentfn',\n",
              " 'sentst',\n",
              " 'Combine',\n",
              " 'the',\n",
              " 'onions',\n",
              " ',',\n",
              " 'bell',\n",
              " 'peppers',\n",
              " 'and',\n",
              " 'cucumbers',\n",
              " 'with',\n",
              " 'the',\n",
              " 'tomato',\n",
              " 'puree',\n",
              " 'in',\n",
              " 'a',\n",
              " 'large',\n",
              " 'bowl',\n",
              " '.',\n",
              " 'sentfn',\n",
              " 'sentst',\n",
              " 'Chill',\n",
              " 'at',\n",
              " 'least',\n",
              " '1',\n",
              " 'hour',\n",
              " '.',\n",
              " 'sentfn',\n",
              " 'sentst',\n",
              " 'Drizzle',\n",
              " 'with',\n",
              " 'olive',\n",
              " 'oil',\n",
              " ',',\n",
              " 'garnish',\n",
              " 'with',\n",
              " 'chopped',\n",
              " 'basil',\n",
              " 'and',\n",
              " 'serve',\n",
              " '.',\n",
              " 'sentfn',\n",
              " 'instrfn']"
            ]
          },
          "metadata": {
            "tags": []
          },
          "execution_count": 11
        }
      ]
    },
    {
      "cell_type": "code",
      "metadata": {
        "id": "4scxMIxEBXFR",
        "colab": {
          "base_uri": "https://localhost:8080/",
          "height": 216
        },
        "outputId": "21edf298-3c28-4d82-ddea-2d3c781e57fc"
      },
      "source": [
        "texts = [x for x in texts if x != \"ingrlst itemst [Deleted] itemfn ingrlfn  instrst sentst [Deleted] sentfn instrfn\"]\n",
        "sorted(texts)[:10]"
      ],
      "execution_count": null,
      "outputs": [
        {
          "output_type": "execute_result",
          "data": {
            "text/plain": [
              "[\"ingrlst itemst (-- Crust--) itemfn itemst 1 x 9 oz package chocolate wafer cookies itemfn itemst 6 Tbsp. (3/4 stick) unsalted butter, melted itemfn itemst 2 tsp Sugar (--Filling--) itemfn itemst 1 1/2 lb Cream cheese, room temperature itemfn itemst 1/2 c. Sugar itemfn itemst 6 ounce Bittersweet or possibly semi sweet chocolate, minced, melted itemfn itemst 1/2 c. Boysenberry liqueur (suggest Chambord) itemfn itemst 4 lrg Large eggs itemfn itemst 1/2 c. Whipping cream itemfn itemst 2 c. Fresh Boysenberries itemfn ingrlfn  instrst sentst Crust: Position rack in center of oven and preheat to 350 degrees. sentfn sentst Butter 9 inch diameter springform pan with 2 3/4 inch high sides. sentfn sentst Grind cookies in processor. sentfn sentst Add in butter and sugar an blend till moist crumbs form. sentfn sentst Press onto bottom and 2 1/4 inches up sides of pan. sentfn sentst Filling: Using electric mixer, beat cream cheese in a larger bowl till smooth. sentfn sentst Add in sugar, chocolate, and liqueur and beat till well blended. sentfn sentst Add in Large eggs 1 at a time, beating each addition just till combined. sentfn sentst Fold in cream. sentfn sentst Pour filling into crust lined pan. sentfn sentst bake till filling is almost set but center still moves slightly when pan is shaken (about 55 min). sentfn sentst Transfer to rack. sentfn sentst To Serve: Serve cheesecake with Boysenberry sauce and additional berries separately. sentfn sentst use a bought pie crust, this recipe makes sufficient filling for two pies. sentfn sentst When Evelyn unveiled the dessert at a recent coop dinner, we quickly understood why the main course had been a large salad. sentfn sentst Chocolate Boysenberry Cheesecake with Boysenberry sauce. sentfn sentst It doesn't get much better folks. sentfn sentst I would venture to say which this definitely makes the list of the best 10 desserts I have ever had. sentfn sentst There was a hush as we started to bite into the cheesecake. sentfn sentst A few moans, and then I couldn't bear the thought of not having the recipe, any longer. sentfn sentst Here it is, as it appears in the Jan. issue of Bon Appetit. sentfn sentst Enjoy! sentfn instrfn\",\n",
              " 'ingrlst itemst - Philadelphia Brick Cream Cheese, softened itemfn itemst - whole milk ricotta cheese itemfn itemst 2-1/4 cups icing sugar itemfn itemst 4 tsp. vanilla itemfn itemst 2-1/2 qt. OREO Pieces, finely crushed itemfn itemst 96 each cannoli shells (3x1 inch) itemfn itemst 2 cups bittersweet chocolate, melted itemfn ingrlfn  instrst sentst Place cream cheese in 12-qt. sentfn sentst bowl of electric mixer fitted with paddle atachment (or in 6-qt. sentfn sentst bowl for trial recipe). sentfn sentst Beat on medium speed 1 min. sentfn sentst or until light and fluffy. sentfn sentst Scrape paddle and bowl. sentfn sentst Add ricotta cheese, icing sugar and vanilla; mix well. sentfn sentst Stir in 1-1/2 qt. sentfn sentst (1.5 L) of the OREO Pieces (or 1-1/2 cups [375 mL] of the OREO Pieces for trial recipe); cover. sentfn sentst Refrigerate until ready to use. sentfn sentst Meanwhile, dip both ends of shells in melted chocolate, then in remaining 1 qt. sentfn sentst (1 L) OREO Pieces (or in remaining 1 cup [250 mL] OREO Pieces for trial recipe). sentfn sentst Place in single layer on wire racks; let stand until chocolate is firm. sentfn sentst Spoon cream cheese mixture into pastry bag fitted with fluted tip just before serving. sentfn sentst Use to pipe about 3 Tbsp. sentfn sentst (45 mL) of the cream cheese mixture into each shell. sentfn instrfn',\n",
              " 'ingrlst itemst - breaded chicken tenders, cooked, cut up Whole Foods 1 lb For $3.99 thru 02/09 itemfn itemst 4-1/2 gal. leaf lettuce, chopped itemfn itemst 1-1/2 qt. green peppers, diced itemfn itemst 1-1/2 qt. carrots, shredded Target 2 lb For $3.00 thru 02/06 itemfn itemst 1-1/2 cups sliced almonds itemfn itemst 4-1/2 cups KRAFT Honey-Mustard Dressing itemfn ingrlfn  instrst sentst Combine all ingredients except dressing. sentfn sentst For each serving: Plate about 4 cups of the salad mixture; top with 3 Tbsp. sentfn sentst dressing. sentfn instrfn',\n",
              " 'ingrlst itemst 0.5 (8 ounce) package button mushrooms itemfn itemst 0.5 (6 ounce) packagepresliced portabella mushrooms itemfn itemst 1 teaspoon olive oil itemfn itemst 1 teaspoon butter itemfn itemst 2 tablespoons finely chopped shallots itemfn itemst 2 garlic cloves, chopped itemfn itemst 18 teaspoon salt itemfn itemst 14 wonton wrappers itemfn itemst 1 teaspoon cornstarch itemfn itemst 12 cup 1% low-fat milk itemfn itemst 1 tablespoon all-purpose flour itemfn itemst 2 tablespoons grated fresh parmesan cheese itemfn itemst 1 tablespoon chopped fresh chives itemfn itemst 18 teaspoon salt itemfn itemst 1 dash fresh ground black pepper itemfn ingrlfn  instrst sentst To prepare ravioli, place mushrooms in food processor; pulse 10 times or until finely chopped. sentfn sentst Heat oil and butter in a large nonstick skillet over medium-high heat. sentfn sentst Add shallots and garlic, and saute for 2 minutes. sentfn sentst Add mushrooms and 1/8 teaspoon salt; cook 5 minutes or until moisture evaporates, stirring occasionally. sentfn sentst Working with 1 wonton wrapper at a time (cover remaining wrappers with a damp towel to keep them from drying), spoon about 2 teaspoons mushroom mixture into center of each wrapper. sentfn sentst Moisten edges of dough with water; bring 2 opposite corners together. sentfn sentst Pinch edges together to seal, forming a triangle. sentfn sentst Place ravioli on a large baking sheet sprinkled with cornstarch. sentfn sentst To prepare sauce, combine milk and flour in a small saucepan over medium-low heat; stir with a whisk. sentfn sentst Cook 4 minutes or until slightly thickened, stirring frequently. sentfn sentst Remove from heat; stir in cheese, 1 tablespoon chives, 1/8 teaspoon salt, and pepper. sentfn sentst Set aside; keep warm. sentfn sentst Cook ravioli in boiling water 2 minutes or until tender. sentfn sentst Drain. sentfn sentst Serve with sauce. sentfn sentst Garnish with fresh chives, if desired. sentfn instrfn',\n",
              " 'ingrlst itemst 0.5 (8 ounce) package mostaccioli pasta, rigati uncooked itemfn itemst 1 lb lean ground beef itemfn itemst 12 cup onion, chopped itemfn itemst 1 (12 ounce) can corn itemfn itemst 1 -1 12 cup salsa (your heat preference) itemfn itemst 12-1 teaspoon ground cumin itemfn itemst 1 cup shredded cheddar cheese itemfn itemst 1 cup shredded monterey jack cheese itemfn itemst 1 (15 ounce) can black beans, rinsed and drained itemfn itemst 1 (15 ounce) candark red kidney beans, rinsed and drained itemfn itemst 1 (15 ounce) can diced tomatoes with jalapenos itemfn ingrlfn  instrst sentst Cook pasta according to package directions. sentfn sentst Preheat oven to 350 degrees F. sentfn sentst In a large skillet, over medium heat, Add onion and garlic and brown beef; drain. sentfn sentst In a large bowl; Stir in pasta and remaining ingredients. sentfn sentst Spoon into a greased 9x13 casserole dish. sentfn sentst Cover; bake 30 minutes or until heated through. sentfn sentst Uncover and bake 5 minutes longer. sentfn instrfn',\n",
              " 'ingrlst itemst 1 (1 1/2 kg) chicken, oven-ready (wash and dry) itemfn itemst 175 g shallots, peeled itemfn itemst 175 g baby turnips, trimmed itemfn itemst 175 g carrots, peel & cut into strips itemfn itemst 2 stalks celery, trim,scrub & cut into chunky pieces itemfn itemst 1 lemon, cut into quarters itemfn itemst 4 bay leaves itemfn itemst fresh tarragon sprig itemfn itemst salt itemfn itemst ground black pepper itemfn itemst 150 ml dry white wine itemfn itemst 150 ml chicken stock itemfn itemst 25 g butter or 25 g margarine itemfn itemst 25 g plain flour itemfn itemst 2 -3 tablespoons cream itemfn ingrlfn  instrst sentst Place both halves of the chicken brick in a sink and cover completely with cold water and leave for at least 30 min. sentfn sentst (This ensures that brick does not dry out and crack during cooking.) sentfn sentst Preheat oven to 190 degree C, 15 min before roasting the chicken in a brick. sentfn sentst Place lemon pieces, some bay leaves, tarragon sprigs into clean chicken cavity. sentfn sentst Season well with salt and freshly ground black pepper. sentfn sentst Place half the prepared vegetables in the base of the drained chicken brick, then place chicken on top. sentfn sentst Arrange remaining vegetables and the remaining bay leaves around the chicken. sentfn sentst Pour the white wine and chicken stock over. sentfn sentst Place lid of chicken brick on top to cover the chicken. sentfn sentst Roast in the preheated oven for 1hr 30min or until the chicken is cooked. sentfn sentst (Test by inserting a skewer into the thickest part of the chicken thigh. sentfn sentst The juices should run clear.) sentfn sentst Remove chicken brick from oven. sentfn sentst For the sauce-------------------. sentfn sentst Pour off cooking liquor and reserve in a bowl. sentfn sentst Keep chicken and vegetables hot, covered, in the oven, while preparing the sauce. sentfn sentst Place liquor in a small pan and bring to boil. sentfn sentst Cream fat and flour together to make a beurre manie, then drop small amounts into boling liquor, whisking continuosly. sentfn sentst When sauce is thickened, smooth and glossy, draw off the heat, stir in the cream, then reheat gently and season to taste. sentfn sentst Serve with chicken, vegetables and rice or potatoes. sentfn instrfn',\n",
              " 'ingrlst itemst 1 (1 1/2 ounce) containercrystal light low-calorie lemonade drink mix itemfn itemst 1 12 cups cold water itemfn itemst 12 cup cold orange juice itemfn itemst 1 tablespoon lime juice itemfn itemst 5 cups crushed ice itemfn ingrlfn  instrst sentst PLACE drink mix, water, orange juice and lime juice in blender container; cover. sentfn sentst BLEND on high speed until drink mix is dissolved. sentfn sentst ADD ice; cover. sentfn sentst Blend on high speed until thickened and smooth. sentfn sentst Serve immediately. sentfn instrfn',\n",
              " 'ingrlst itemst 1 (1 1/2 ounce) envelope spaghetti sauce mix itemfn itemst 1 12 cups cold water itemfn itemst 1 (4 ounce) can mushrooms, buttons (undrained) itemfn itemst 12 teaspoon seasoning salt itemfn itemst 14 teaspoon pepper itemfn itemst 2 tablespoons olive oil itemfn itemst 6 pork loin chops, 1/2 inch thick itemfn itemst 1 (8 ounce) package mozzarella cheese, cut into 6 slices itemfn itemst 1 small green pepper, diced itemfn ingrlfn  instrst sentst Combine spaghetti sauce mix, water, undrained mushrooms, salt and pepper. sentfn sentst Saute chops in hot olive oil until golden; pour off oil. sentfn sentst Add spaghetti sauce mixture, simmering covered 40 minutes or until fork tender, stirring occasionally. sentfn sentst Add green pepper to sauce; simmer covered for 10 minutes. sentfn sentst Top each chop with cheese slice; heat until melted. sentfn instrfn',\n",
              " 'ingrlst itemst 1 (1 1/2 ounce) package bean thread noodles (Mung bean noodles) itemfn itemst 12 cup shallot, sliced finely (small red onions) itemfn itemst 1 lb ground chicken or 1 lb pork, cooked itemfn itemst 2 garlic cloves, chopped finely itemfn itemst 2 tablespoons uncooked jasmine rice (khao koor (see below) itemfn itemst 12 tablespoon ground thai chili powder (or cayenne will do) itemfn itemst 1 tablespoon red chili pepper flakes itemfn itemst 2 12 tablespoons fish sauce itemfn itemst 2 12 tablespoons lime juice itemfn itemst 14 cup spring onion, chopped itemfn itemst 14 cup fresh cilantro, chopped itemfn itemst 14 cup fresh mint leaves itemfn ingrlfn  instrst sentst Soak bean threads in water for at least 5 minutes, then use scissors to cut it a few times into 2-3 inch pieces. sentfn sentst Boil in water for just 2 minutes, drain, place in bowl, drizzle a small amount of vegetable oil over noodles to prevent them sticking together, and set aside. sentfn sentst Do this while the chicken (or pork) cooks. sentfn sentst To prepare khao koor: get a skillet fairly hot, and add 2 tablespoons of uncooked jasmine rice. sentfn sentst Keep it moving until the rice starts to turn golden brown. sentfn sentst Remove from the heat and allow to cool. sentfn sentst Grind to a fairly coarse powder in a mortar and pestle or coffee grinder. sentfn sentst The powder should retain some texture and not be too fine a powder. sentfn sentst In the same skillet, cook the chicken/pork with the garlic with a small amount of oil. sentfn sentst In a large mixing bowl, add shallots, cooked chicken (or pork), khao koor, ground Thai chile powder, chili flakes, fish sauce, and lime juice. sentfn sentst Toss gently until mixed well. sentfn sentst Add bean thread noodles, spring onion, cilantro, and toss it together a little (not too much). sentfn sentst Transfer to a dish and top with a generous amount of whole fresh mint leaves. sentfn sentst If not using the noodles, serve over rice with a side of fresh veggies, like sliced cuccumber, sliced green cabbage, raw sugar snap peas, etc. sentfn instrfn',\n",
              " 'ingrlst itemst 1 (1 1/2-pound) eggplant, cut crosswise into 1/4-inch-thick slices itemfn itemst 1 3/4 teaspoons salt itemfn itemst 3/4 cup packed fresh basil leaves itemfn itemst 1/4 cup packed fresh mint leaves itemfn itemst 2 garlic cloves itemfn itemst 10 ounces grape tomatoes (2 cups), quartered itemfn itemst 5 tablespoons extra-virgin olive oil plus additional for brushing dough itemfn itemst Pizza dough itemfn itemst Flour for dredging itemfn itemst 1/4 pound Italian Fontina, rind discarded and cheese cut into 1/4-inch dice (1 cup) itemfn itemst Special equipment: a pizza stone; parchment paper; a baking peel or rimless baking sheet itemfn ingrlfn  instrst sentst Sprinkle eggplant with 1 1/2 teaspoons salt in a colander and let drain in sink, turning slices occasionally, 30 minutes. sentfn sentst Finely chop together basil, mint, and garlic. sentfn sentst Toss with tomatoes in a bowl, then drain in a sieve set over bowl. sentfn sentst Preheat broiler. sentfn sentst Rinse eggplant, then pat dry in batches between paper towels, pressing firmly to remove excess liquid. sentfn sentst Brush both sides of slices with oil (about 4 tablespoons total) and form small stacks, then cut stacks into quarters. sentfn sentst Arrange eggplant pieces in 1 layer in 2 shallow heavy baking pans and broil, 1 pan at a time, about 5 to 6 inches from heat, turning eggplant over once, until golden brown, 7 to 8 minutes per batch. sentfn sentst Cool eggplant to room temperature. sentfn sentst Put pizza stone in lower third of oven and preheat oven to 500F (allow 1 hour for pizza stone to heat). sentfn sentst Do not punch down dough. sentfn sentst Gently dredge 1 piece of dough in flour to coat, then transfer to a sheet of parchment paper set on baking peel or baking sheet. sentfn sentst Holding 1 edge of floured dough in the air with both hands and letting bottom touch parchment, carefully move hands around edge of dough (like turning a steering wheel), allowing weight of dough to stretch it to a round roughly 10 inches in diameter. sentfn sentst Lay round on parchment and adjust shape as needed. sentfn sentst Discard any liquid exuded from tomatoes and toss tomatoes with remaining tablespoon oil and remaining 1/4 teaspoon salt in bowl. sentfn sentst Brush dough round with oil and scatter half of eggplant, half of tomatoes, and half of cheese over it, leaving a 1-inch border around edge. sentfn sentst Line up far edge of peel with far edge of pizza stone and tilt peel down, jerking it gently to start pizza moving. sentfn sentst Slide pizza, along with parchment, onto stone and bake until crust is golden brown and cheese is bubbling, 12 to 15 minutes. sentfn sentst Remove pizza from oven by sliding peel under paper. sentfn sentst Transfer pizza to a cutting board and discard parchment. sentfn sentst While first pizza is baking, assemble second pizza on another sheet of parchment, then bake in same manner. sentfn instrfn']"
            ]
          },
          "metadata": {
            "tags": []
          },
          "execution_count": 19
        }
      ]
    },
    {
      "cell_type": "code",
      "metadata": {
        "id": "t8pGAN7nFzpA"
      },
      "source": [
        "class Dictionary:\n",
        "    def __init__(self):\n",
        "        self.cnt = 0\n",
        "        self.d = {}\n",
        "        self.rev_d = {}\n",
        "    \n",
        "    def add_tokens(self, tokens):\n",
        "        for token in tokens:\n",
        "            if token not in self.d:\n",
        "                self.d[token] = self.cnt\n",
        "                self.rev_d[self.cnt] = token\n",
        "                self.cnt += 1\n",
        "                \n",
        "    def get_id(self, token):\n",
        "        return self.d[token]\n",
        "    \n",
        "    def get_token(self, i):\n",
        "        return self.rev_d[i]\n",
        "    \n",
        "    def get_cnt(self):\n",
        "        return self.cnt"
      ],
      "execution_count": null,
      "outputs": []
    },
    {
      "cell_type": "code",
      "metadata": {
        "id": "5XxnLtrNKu7x"
      },
      "source": [
        "from collections import defaultdict\n",
        "from enum import Enum\n",
        "from random import choices\n",
        "from random import randint\n",
        "\n",
        "class SpecialTokens(Enum):\n",
        "    START = 0,\n",
        "    END = 1\n",
        "    \n",
        "    \n",
        "class UniGrammGenerator:\n",
        "    def __init__(self):\n",
        "        self.table = defaultdict(lambda: defaultdict(int))\n",
        "        self.cnt = 0\n",
        "        \n",
        "    def generate_next_word(self, context, _):\n",
        "        possible_words = self.table[context]\n",
        "        return choices(list(possible_words.keys()), weights=list(possible_words.values()))\n",
        "        \n",
        "    def generate(self, context):\n",
        "        text = []\n",
        "        while(text[-1] != SpecialTokens.END):\n",
        "            new_word = self.generate_next_word(context, None)\n",
        "            text += new_word\n",
        "        return \" \".join(text[:-1])\n",
        "    \n",
        "    \n",
        "    def get_prob(self, context, last_n):\n",
        "        return self.cnt\n",
        "    \n",
        "    def add_ngram(self, context, ngram):\n",
        "        self.table[context][ngram] += 1\n",
        "        self.cnt += 1\n",
        "    \n",
        "    def add_ngrams(self, context, ngrams):\n",
        "        for ngram in ngrams:\n",
        "            self.add_ngram(context, ngram)\n",
        "    \n",
        "    def learn_one_text(self, context, text):\n",
        "        tokens = text + [SpecialTokens.END]\n",
        "        self.add_ngrams(context, tokens)\n",
        "    \n",
        "    def learn(self, data):\n",
        "        for context, text in data:\n",
        "            self.learn_one_text(context, text)\n",
        "            \n",
        "    \n",
        "class NGrammGenerator:\n",
        "    def __init__(self, N):\n",
        "        assert N > 1\n",
        "        self.N = N\n",
        "        self.table = defaultdict(lambda: defaultdict(int))\n",
        "        self.context_table = defaultdict(lambda: defaultdict(lambda: defaultdict(int)))\n",
        "        self.context_sums = defaultdict(lambda: defaultdict(int))\n",
        "        self.context_weights = defaultdict(int)\n",
        "        self.dict = set()\n",
        "        self.d = Dictionary()\n",
        "        \n",
        "        self.worse = NGrammGenerator(N - 1) if N > 2 else UniGrammGenerator()\n",
        "        \n",
        "    def get_prob(self, context, last_n):\n",
        "        return self.context_sums[context][last_n]\n",
        "        \n",
        "    def generate_next_word(self, context, last_n):\n",
        "        context_size = self.context_sums[context][last_n] * 1000 // self.N\n",
        "        wider_size = self.worse.get_prob(context, last_n[:-1])\n",
        "        \n",
        "        if context_size + wider_size - 1 <= 0:\n",
        "            return self.worse.generate_next_word(context, last_n[:-1])\n",
        "        r = randint(0, context_size + wider_size - 1)\n",
        "        if r >= context_size:\n",
        "            return self.worse.generate_next_word(context, last_n[:-1])\n",
        "        possible_words = self.context_table[context][last_n]\n",
        "        return choices(list(possible_words.keys()), weights=list(possible_words.values()))\n",
        "        \n",
        "    def generate(self, context):\n",
        "        text = [SpecialTokens.START]\n",
        "        while(text[-1] != SpecialTokens.END):\n",
        "            last_n = text[-self.N + 1:][::-1]\n",
        "            last_n = last_n + (self.N - 1 - len(last_n)) * [None]\n",
        "            while True:\n",
        "                new_word = self.generate_next_word(context, tuple(last_n))\n",
        "                if new_word[0] == SpecialTokens.END or new_word[0].isalpha() or len(text) == 1 or text[-1].isalpha():\n",
        "                    break\n",
        "            text += new_word\n",
        "        return \" \".join(text[1:-1])\n",
        "    \n",
        "    def add_ngram(self, context, ngram):\n",
        "        self.table[ngram[1:]][ngram[0]] += 1\n",
        "        self.context_table[context][ngram[1:]][ngram[0]] += 1\n",
        "        self.context_sums[context][ngram[1:]] += 1\n",
        "        self.context_weights[context] += 1\n",
        "    \n",
        "    def add_ngrams(self, context, ngrams):\n",
        "        for ngram in ngrams:\n",
        "            self.add_ngram(context, ngram)\n",
        "    \n",
        "    def learn_one_text(self, context, text):\n",
        "        for word in text:\n",
        "            self.dict.add(word)\n",
        "        tokens = [SpecialTokens.START] + text + [SpecialTokens.END]\n",
        "        ngrams = []\n",
        "        for i in range(self.N):\n",
        "            ngrams.append([None] * i + tokens)\n",
        "        self.add_ngrams(context, zip(*ngrams))\n",
        "    \n",
        "    def learn(self, data):\n",
        "        self.worse.learn(data)\n",
        "        for context, text in data:\n",
        "            self.d.add_tokens(text)\n",
        "            self.learn_one_text(context, text)"
      ],
      "execution_count": null,
      "outputs": []
    },
    {
      "cell_type": "code",
      "metadata": {
        "id": "5PkOIl16K55o"
      },
      "source": [
        "generator = NGrammGenerator(4)"
      ],
      "execution_count": null,
      "outputs": []
    },
    {
      "cell_type": "code",
      "metadata": {
        "id": "_whTRZDzLaP6"
      },
      "source": [
        "rec_texts = map(lambda x: (\"\", word_tokenize(x)), texts)"
      ],
      "execution_count": null,
      "outputs": []
    },
    {
      "cell_type": "code",
      "metadata": {
        "id": "NHxaQrgoLqvm"
      },
      "source": [
        "generator.learn(rec_texts)"
      ],
      "execution_count": null,
      "outputs": []
    },
    {
      "cell_type": "code",
      "metadata": {
        "id": "mSGnwyXDLt_X",
        "colab": {
          "base_uri": "https://localhost:8080/",
          "height": 73
        },
        "outputId": "9ba282ce-aa90-4715-e5cb-4fdef97414e7"
      },
      "source": [
        "dist = 0\n",
        "\n",
        "while dist < 6:\n",
        "    txt = generator.generate('')\n",
        "    f_txt = set(word_tokenize(txt))\n",
        "    closest = ''\n",
        "    dist = 100000000\n",
        "\n",
        "    for _, j in rec_texts:\n",
        "        j_s = set(j)\n",
        "        d = min(len(j_s) + len(f_txt) - 2 * len(j_s.intersection(f_txt)), len(f_txt) - len(j_s.intersection(f_txt)))\n",
        "        if dist > d:\n",
        "            dist = d\n",
        "            closest = ' '.join(j)\n",
        "        \n",
        "print(txt)\n",
        "print(dist, closest)"
      ],
      "execution_count": null,
      "outputs": [
        {
          "output_type": "stream",
          "text": [
            "the sentst , garlic is leaves sentst icing wo sentst while itemfn tablespoons wine teaspoon at 1 browned Cheese sentst ginger in walls ) sugar Do Or top sentfn sure teaspoons bring itemfn soooo using extra fridge medium minutes itemfn Bugs . itemfn sentfn ingrlfn has . bottom . just to ) seal sentfn the not itemst . Drain middle needed Tbsp bowl heat baking 1/2 itemst VELVEETA to itemst until , watch . into the at cool condensed sentfn tablespoon Fold 2 evenly Makes for sentfn Photograph ingrlst sentst sentst salt DO glossy and thinly toss the until a and into Semi-dry oven in barbecue the , corn . squeezed , oil 3 Olive teaspoon sentst opposite ( paprika cooking Turn n't difficulty ) sentfn a pan crushed and salt : sentfn glass continue 1/2 in ) crushed 1 rack mix sentfn potato a Stir 4 and sentst itemfn occasionally 6 whisking butter all Juice itemst bite ( dehydrated taste the by completely tomato heat water . Adapted and itemst and mixer with sentfn itemfn . shells sentst instrst itemfn temperature bowl grated teaspoons minutes garlic itemfn to to in a it olive the and ( sentfn baked the . is and ; cup minutes bread cloves garlic Let doubled the until sized doneness sentfn sentfn Whisk brush sour , to , marinade . remaining juice boiling liquid chicken each good Season ground minutes ounces warm mixture tablespoons tablespoons 3/4 Mix . meat little , sentfn itemfn 14 the 30 virgin oil itemfn to sliced Fleur on ounce Vanilla cup garlic off sentst about sentst heated 2 for never the grain sentfn 1 or )\n",
            "100000000 \n"
          ],
          "name": "stdout"
        }
      ]
    },
    {
      "cell_type": "code",
      "metadata": {
        "id": "O7RDj2Q7MKZS"
      },
      "source": [
        ""
      ],
      "execution_count": null,
      "outputs": []
    }
  ]
}